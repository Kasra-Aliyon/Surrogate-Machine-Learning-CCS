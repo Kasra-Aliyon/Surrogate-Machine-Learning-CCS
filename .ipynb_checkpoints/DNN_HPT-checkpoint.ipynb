{
 "cells": [
  {
   "cell_type": "code",
   "execution_count": 1,
   "id": "92899abc",
   "metadata": {},
   "outputs": [],
   "source": [
    "import numpy as np\n",
    "import pandas as pd\n",
    "import matplotlib.pyplot as plt\n",
    "import seaborn as sns"
   ]
  },
  {
   "cell_type": "code",
   "execution_count": 2,
   "id": "2bdbd7a8",
   "metadata": {},
   "outputs": [],
   "source": [
    "df = pd.read_excel(\"data\\\\data.xlsx\")\n",
    "df = df[df[\"LMTD\"] > 0]\n",
    "df = df[df[\"LA Chilling Duty\"] >= 0]\n",
    "df[\"SCD (MJ/kg)\"] = (0.001 * df[\"LA Chilling Duty\"]) / df[\"Captured CO2 (kg/h)\"]"
   ]
  },
  {
   "cell_type": "code",
   "execution_count": 3,
   "id": "dd9e2ed5",
   "metadata": {},
   "outputs": [],
   "source": [
    "from sklearn.model_selection import train_test_split\n",
    "from sklearn.preprocessing import StandardScaler\n",
    "from sklearn.metrics import mean_absolute_error, mean_squared_error, mean_absolute_percentage_error, r2_score\n",
    "from joblib import dump, load"
   ]
  },
  {
   "cell_type": "code",
   "execution_count": 4,
   "id": "b35d697d",
   "metadata": {},
   "outputs": [],
   "source": [
    "from tensorflow import keras\n",
    "from tensorflow.keras import layers\n",
    "from keras_tuner.tuners import RandomSearch\n",
    "from keras_tuner.tuners import BayesianOptimization\n",
    "from keras_tuner.tuners import Hyperband\n",
    "import keras_tuner as kt"
   ]
  },
  {
   "cell_type": "code",
   "execution_count": 5,
   "id": "276ed964",
   "metadata": {},
   "outputs": [],
   "source": [
    "XA = df[[\"FG Temperature\", \"Lean Loading\",'Lean Amine Temperature','L/G (kg/kg)','Flue gas CO2 cons','CO2 Capture Efficiency','LMTD','Abs Height']]\n",
    "XN = df[[\"FG Temperature\", \"Lean Loading\",'Lean Amine Temperature','L/G (kg/kg)','Flue gas CO2 cons','CO2 Capture Efficiency']]\n",
    "y = df[[\"SRD (MJ/kg CO2)\", \"Condensor Specific Duty\", \"SCD (MJ/kg)\"]]"
   ]
  },
  {
   "cell_type": "code",
   "execution_count": 6,
   "id": "56bd2f4a",
   "metadata": {},
   "outputs": [],
   "source": [
    "XA_train, XA_test, y_train, y_test = train_test_split(XA, y, test_size=0.30, random_state=211)\n",
    "XN_train, XN_test, y_train, y_test = train_test_split(XN, y, test_size=0.30, random_state=211)"
   ]
  },
  {
   "cell_type": "code",
   "execution_count": 7,
   "id": "f955e8c3",
   "metadata": {},
   "outputs": [],
   "source": [
    "XA_train_u, XA_validate, y_train_u, y_validate = train_test_split(XA_train, y_train, test_size=0.20, random_state=211)\n",
    "XN_train_u, XN_validate, y_train_u, y_validate = train_test_split(XN_train, y_train, test_size=0.20, random_state=211)"
   ]
  },
  {
   "cell_type": "code",
   "execution_count": 8,
   "id": "35de1fda",
   "metadata": {},
   "outputs": [],
   "source": [
    "scalerA = StandardScaler()\n",
    "scalerA.fit(XA_train_u)\n",
    "XA_train_u_s = scalerA.transform(XA_train_u)\n",
    "XA_validate_s = scalerA.transform(XA_validate)"
   ]
  },
  {
   "cell_type": "code",
   "execution_count": 9,
   "id": "c0f2b776",
   "metadata": {},
   "outputs": [],
   "source": [
    "def build_model(hp):\n",
    "    model = keras.Sequential()\n",
    "    model.add(layers.InputLayer(input_shape=(XA_train_u_s.shape[1],)))\n",
    "    for l in range(hp.Int(name='n_layers', min_value=1, max_value=7)):\n",
    "        model.add(layers.Dense(units=hp.Int(name='units_'+str(l),\n",
    "                                           min_value=10,\n",
    "                                           max_value=32,\n",
    "                                           step=4\n",
    "                                           ),\n",
    "                              activation=hp.Choice(name='act_func', values=['relu', 'tanh'])\n",
    "                              )\n",
    "                 )\n",
    "        \n",
    "    model.add(layers.Dense(units=1, activation='relu'))\n",
    "        \n",
    "    model.compile(optimizer='adam',\n",
    "                      loss=keras.losses.MeanSquaredError(),\n",
    "                      metrics=keras.metrics.MeanSquaredError()\n",
    "                     )\n",
    "    return model"
   ]
  },
  {
   "cell_type": "code",
   "execution_count": 10,
   "id": "83a22011",
   "metadata": {},
   "outputs": [],
   "source": [
    "tuner = Hyperband(build_model,\n",
    "                  objective='val_loss',\n",
    "                  max_epochs=150,\n",
    "                  executions_per_trial=3,\n",
    "                  directory='DNN_HPFT',\n",
    "                  overwrite=True\n",
    "                            )"
   ]
  },
  {
   "cell_type": "code",
   "execution_count": 11,
   "id": "6ec4f704",
   "metadata": {},
   "outputs": [
    {
     "name": "stdout",
     "output_type": "stream",
     "text": [
      "Search space summary\n",
      "Default search space size: 3\n",
      "n_layers (Int)\n",
      "{'default': None, 'conditions': [], 'min_value': 1, 'max_value': 7, 'step': 1, 'sampling': None}\n",
      "units_0 (Int)\n",
      "{'default': None, 'conditions': [], 'min_value': 10, 'max_value': 32, 'step': 4, 'sampling': None}\n",
      "act_func (Choice)\n",
      "{'default': 'relu', 'conditions': [], 'values': ['relu', 'tanh'], 'ordered': False}\n"
     ]
    }
   ],
   "source": [
    "tuner.search_space_summary()"
   ]
  },
  {
   "cell_type": "code",
   "execution_count": 12,
   "id": "be20c2a7",
   "metadata": {},
   "outputs": [
    {
     "name": "stdout",
     "output_type": "stream",
     "text": [
      "Trial 254 Complete [00h 00m 17s]\n",
      "val_loss: 0.0016831493703648448\n",
      "\n",
      "Best val_loss So Far: 0.001213545212522149\n",
      "Total elapsed time: 00h 10m 00s\n",
      "INFO:tensorflow:Oracle triggered exit\n"
     ]
    }
   ],
   "source": [
    "tuner.search(XA_train_u_s, y_train_u['SRD (MJ/kg CO2)'],\n",
    "             epochs=150,\n",
    "             validation_data=(XA_validate_s, y_validate['SRD (MJ/kg CO2)']),\n",
    "             verbose=1\n",
    "            )"
   ]
  },
  {
   "cell_type": "code",
   "execution_count": 13,
   "id": "fc0a6798",
   "metadata": {},
   "outputs": [
    {
     "name": "stdout",
     "output_type": "stream",
     "text": [
      "Results summary\n",
      "Results in DNN_HPFT\\untitled_project\n",
      "Showing 10 best trials\n",
      "<keras_tuner.engine.objective.Objective object at 0x000001D3ED8AB8B0>\n",
      "Trial summary\n",
      "Hyperparameters:\n",
      "n_layers: 4\n",
      "units_0: 10\n",
      "act_func: tanh\n",
      "units_1: 26\n",
      "units_2: 22\n",
      "units_3: 22\n",
      "units_4: 18\n",
      "units_5: 18\n",
      "units_6: 18\n",
      "tuner/epochs: 150\n",
      "tuner/initial_epoch: 0\n",
      "tuner/bracket: 0\n",
      "tuner/round: 0\n",
      "Score: 0.001213545212522149\n",
      "Trial summary\n",
      "Hyperparameters:\n",
      "n_layers: 4\n",
      "units_0: 14\n",
      "act_func: tanh\n",
      "units_1: 26\n",
      "units_2: 22\n",
      "units_3: 14\n",
      "units_4: 14\n",
      "units_5: 14\n",
      "units_6: 30\n",
      "tuner/epochs: 150\n",
      "tuner/initial_epoch: 0\n",
      "tuner/bracket: 0\n",
      "tuner/round: 0\n",
      "Score: 0.0013408935628831387\n",
      "Trial summary\n",
      "Hyperparameters:\n",
      "n_layers: 3\n",
      "units_0: 30\n",
      "act_func: tanh\n",
      "units_1: 14\n",
      "units_2: 14\n",
      "units_3: 26\n",
      "units_4: 30\n",
      "units_5: 10\n",
      "units_6: 30\n",
      "tuner/epochs: 150\n",
      "tuner/initial_epoch: 0\n",
      "tuner/bracket: 0\n",
      "tuner/round: 0\n",
      "Score: 0.0016831493703648448\n",
      "Trial summary\n",
      "Hyperparameters:\n",
      "n_layers: 6\n",
      "units_0: 30\n",
      "act_func: tanh\n",
      "units_1: 26\n",
      "units_2: 22\n",
      "units_3: 22\n",
      "units_4: 10\n",
      "units_5: 22\n",
      "units_6: 14\n",
      "tuner/epochs: 150\n",
      "tuner/initial_epoch: 50\n",
      "tuner/bracket: 3\n",
      "tuner/round: 3\n",
      "tuner/trial_id: 0203\n",
      "Score: 0.0017152330838143826\n",
      "Trial summary\n",
      "Hyperparameters:\n",
      "n_layers: 5\n",
      "units_0: 26\n",
      "act_func: tanh\n",
      "units_1: 18\n",
      "units_2: 26\n",
      "units_3: 26\n",
      "units_4: 22\n",
      "units_5: 26\n",
      "units_6: 26\n",
      "tuner/epochs: 150\n",
      "tuner/initial_epoch: 50\n",
      "tuner/bracket: 2\n",
      "tuner/round: 2\n",
      "tuner/trial_id: 0228\n",
      "Score: 0.0020470917224884033\n",
      "Trial summary\n",
      "Hyperparameters:\n",
      "n_layers: 4\n",
      "units_0: 14\n",
      "act_func: tanh\n",
      "units_1: 30\n",
      "units_2: 26\n",
      "units_3: 14\n",
      "units_4: 26\n",
      "units_5: 14\n",
      "units_6: 10\n",
      "tuner/epochs: 150\n",
      "tuner/initial_epoch: 50\n",
      "tuner/bracket: 1\n",
      "tuner/round: 1\n",
      "tuner/trial_id: 0237\n",
      "Score: 0.002138632582500577\n",
      "Trial summary\n",
      "Hyperparameters:\n",
      "n_layers: 7\n",
      "units_0: 30\n",
      "act_func: relu\n",
      "units_1: 22\n",
      "units_2: 18\n",
      "units_3: 30\n",
      "units_4: 30\n",
      "units_5: 22\n",
      "tuner/epochs: 150\n",
      "tuner/initial_epoch: 50\n",
      "tuner/bracket: 4\n",
      "tuner/round: 4\n",
      "units_6: 10\n",
      "tuner/trial_id: 0143\n",
      "Score: 0.002140251686796546\n",
      "Trial summary\n",
      "Hyperparameters:\n",
      "n_layers: 5\n",
      "units_0: 30\n",
      "act_func: tanh\n",
      "units_1: 22\n",
      "units_2: 22\n",
      "units_3: 22\n",
      "units_4: 30\n",
      "units_5: 22\n",
      "units_6: 18\n",
      "tuner/epochs: 150\n",
      "tuner/initial_epoch: 50\n",
      "tuner/bracket: 3\n",
      "tuner/round: 3\n",
      "tuner/trial_id: 0204\n",
      "Score: 0.0022038775496184826\n",
      "Trial summary\n",
      "Hyperparameters:\n",
      "n_layers: 7\n",
      "units_0: 22\n",
      "act_func: tanh\n",
      "units_1: 30\n",
      "units_2: 26\n",
      "units_3: 18\n",
      "units_4: 22\n",
      "units_5: 14\n",
      "units_6: 18\n",
      "tuner/epochs: 150\n",
      "tuner/initial_epoch: 50\n",
      "tuner/bracket: 2\n",
      "tuner/round: 2\n",
      "tuner/trial_id: 0230\n",
      "Score: 0.0023215434048324823\n",
      "Trial summary\n",
      "Hyperparameters:\n",
      "n_layers: 5\n",
      "units_0: 18\n",
      "act_func: relu\n",
      "units_1: 10\n",
      "units_2: 30\n",
      "units_3: 22\n",
      "units_4: 30\n",
      "units_5: 26\n",
      "units_6: 14\n",
      "tuner/epochs: 150\n",
      "tuner/initial_epoch: 0\n",
      "tuner/bracket: 0\n",
      "tuner/round: 0\n",
      "Score: 0.0023595583625137806\n"
     ]
    }
   ],
   "source": [
    "tuner.results_summary()"
   ]
  },
  {
   "cell_type": "code",
   "execution_count": 14,
   "id": "dbe6bb80",
   "metadata": {},
   "outputs": [
    {
     "data": {
      "text/plain": [
       "{'n_layers': 4,\n",
       " 'units_0': 10,\n",
       " 'act_func': 'tanh',\n",
       " 'units_1': 26,\n",
       " 'units_2': 22,\n",
       " 'units_3': 22,\n",
       " 'units_4': 18,\n",
       " 'units_5': 18,\n",
       " 'units_6': 18,\n",
       " 'tuner/epochs': 150,\n",
       " 'tuner/initial_epoch': 0,\n",
       " 'tuner/bracket': 0,\n",
       " 'tuner/round': 0}"
      ]
     },
     "execution_count": 14,
     "metadata": {},
     "output_type": "execute_result"
    }
   ],
   "source": [
    "tuner.get_best_hyperparameters()[0].values"
   ]
  },
  {
   "cell_type": "code",
   "execution_count": 15,
   "id": "6f310b93",
   "metadata": {},
   "outputs": [],
   "source": [
    "gbmmodel = tuner.get_best_models()"
   ]
  },
  {
   "cell_type": "code",
   "execution_count": 16,
   "id": "60b57bd5",
   "metadata": {},
   "outputs": [
    {
     "name": "stdout",
     "output_type": "stream",
     "text": [
      "Model: \"sequential\"\n",
      "_________________________________________________________________\n",
      " Layer (type)                Output Shape              Param #   \n",
      "=================================================================\n",
      " dense (Dense)               (None, 10)                90        \n",
      "                                                                 \n",
      " dense_1 (Dense)             (None, 26)                286       \n",
      "                                                                 \n",
      " dense_2 (Dense)             (None, 22)                594       \n",
      "                                                                 \n",
      " dense_3 (Dense)             (None, 22)                506       \n",
      "                                                                 \n",
      " dense_4 (Dense)             (None, 1)                 23        \n",
      "                                                                 \n",
      "=================================================================\n",
      "Total params: 1,499\n",
      "Trainable params: 1,499\n",
      "Non-trainable params: 0\n",
      "_________________________________________________________________\n"
     ]
    }
   ],
   "source": [
    "gbmmodel[0].summary()"
   ]
  },
  {
   "cell_type": "code",
   "execution_count": 17,
   "id": "afd82689",
   "metadata": {},
   "outputs": [
    {
     "name": "stdout",
     "output_type": "stream",
     "text": [
      "54/54 [==============================] - 0s 527us/step\n"
     ]
    }
   ],
   "source": [
    "final_pred = gbmmodel[0].predict(scalerA.transform(XA_test))"
   ]
  },
  {
   "cell_type": "code",
   "execution_count": 18,
   "id": "f30cc21c",
   "metadata": {},
   "outputs": [
    {
     "data": {
      "text/plain": [
       "4.7761602"
      ]
     },
     "execution_count": 18,
     "metadata": {},
     "output_type": "execute_result"
    }
   ],
   "source": [
    "final_pred.mean()"
   ]
  },
  {
   "cell_type": "code",
   "execution_count": 19,
   "id": "ef16c232",
   "metadata": {},
   "outputs": [
    {
     "data": {
      "text/plain": [
       "4.786278037383177"
      ]
     },
     "execution_count": 19,
     "metadata": {},
     "output_type": "execute_result"
    }
   ],
   "source": [
    "y_test['SRD (MJ/kg CO2)'].mean()"
   ]
  },
  {
   "cell_type": "code",
   "execution_count": 20,
   "id": "55e84f21",
   "metadata": {},
   "outputs": [
    {
     "data": {
      "text/plain": [
       "0.03606744912322586"
      ]
     },
     "execution_count": 20,
     "metadata": {},
     "output_type": "execute_result"
    }
   ],
   "source": [
    "np.sqrt(mean_squared_error(y_test['SRD (MJ/kg CO2)'],final_pred))"
   ]
  },
  {
   "cell_type": "code",
   "execution_count": 21,
   "id": "9bf524f5",
   "metadata": {},
   "outputs": [
    {
     "data": {
      "text/plain": [
       "0.027158260192826526"
      ]
     },
     "execution_count": 21,
     "metadata": {},
     "output_type": "execute_result"
    }
   ],
   "source": [
    "mean_absolute_error(y_test['SRD (MJ/kg CO2)'],final_pred)"
   ]
  },
  {
   "cell_type": "code",
   "execution_count": null,
   "id": "956e17f7",
   "metadata": {},
   "outputs": [],
   "source": []
  },
  {
   "cell_type": "code",
   "execution_count": 22,
   "id": "704f81e6",
   "metadata": {},
   "outputs": [
    {
     "data": {
      "text/plain": [
       "4.748642342624498"
      ]
     },
     "execution_count": 22,
     "metadata": {},
     "output_type": "execute_result"
    }
   ],
   "source": [
    "y_train_u['SRD (MJ/kg CO2)'].mean()"
   ]
  },
  {
   "cell_type": "code",
   "execution_count": 23,
   "id": "49ba1df2",
   "metadata": {},
   "outputs": [
    {
     "data": {
      "text/plain": [
       "4.784898623279095"
      ]
     },
     "execution_count": 23,
     "metadata": {},
     "output_type": "execute_result"
    }
   ],
   "source": [
    "y_validate['SRD (MJ/kg CO2)'].mean()"
   ]
  }
 ],
 "metadata": {
  "kernelspec": {
   "display_name": "Python 3 (ipykernel)",
   "language": "python",
   "name": "python3"
  },
  "language_info": {
   "codemirror_mode": {
    "name": "ipython",
    "version": 3
   },
   "file_extension": ".py",
   "mimetype": "text/x-python",
   "name": "python",
   "nbconvert_exporter": "python",
   "pygments_lexer": "ipython3",
   "version": "3.9.12"
  }
 },
 "nbformat": 4,
 "nbformat_minor": 5
}
