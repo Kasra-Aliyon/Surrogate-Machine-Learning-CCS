{
 "cells": [
  {
   "cell_type": "code",
   "execution_count": 1,
   "id": "2e01f0fd",
   "metadata": {},
   "outputs": [],
   "source": [
    "import numpy as np\n",
    "import pandas as pd\n",
    "import matplotlib.pyplot as plt\n",
    "import seaborn as sns"
   ]
  },
  {
   "cell_type": "code",
   "execution_count": 2,
   "id": "b4369102",
   "metadata": {},
   "outputs": [],
   "source": [
    "df = pd.read_excel(\"data\\\\data.xlsx\")\n",
    "df = df[df[\"LMTD\"] > 0]\n",
    "df = df[df[\"LA Chilling Duty\"] >= 0]\n",
    "df[\"SCD (MJ/kg)\"] = (0.001 * df[\"LA Chilling Duty\"]) / df[\"Captured CO2 (kg/h)\"]"
   ]
  },
  {
   "cell_type": "code",
   "execution_count": 3,
   "id": "a47ed1e9",
   "metadata": {},
   "outputs": [],
   "source": [
    "from sklearn.model_selection import train_test_split\n",
    "from sklearn.preprocessing import StandardScaler\n",
    "from sklearn.metrics import mean_absolute_error, mean_squared_error, mean_absolute_percentage_error, r2_score\n",
    "from joblib import dump, load"
   ]
  },
  {
   "cell_type": "code",
   "execution_count": 4,
   "id": "c47af481",
   "metadata": {},
   "outputs": [],
   "source": [
    "from tensorflow import keras\n",
    "from tensorflow.keras import layers\n",
    "from keras_tuner.tuners import RandomSearch\n",
    "from keras_tuner.tuners import BayesianOptimization\n",
    "import keras_tuner as kt"
   ]
  },
  {
   "cell_type": "code",
   "execution_count": 5,
   "id": "0aeb241a",
   "metadata": {},
   "outputs": [],
   "source": [
    "XA = df[[\"FG Temperature\", \"Lean Loading\",'Lean Amine Temperature','L/G (kg/kg)','Flue gas CO2 cons','CO2 Capture Efficiency','LMTD','Abs Height']]\n",
    "XN = df[[\"FG Temperature\", \"Lean Loading\",'Lean Amine Temperature','L/G (kg/kg)','Flue gas CO2 cons','CO2 Capture Efficiency']]\n",
    "y = df[[\"SRD (MJ/kg CO2)\", \"Condensor Specific Duty\", \"SCD (MJ/kg)\"]]"
   ]
  },
  {
   "cell_type": "code",
   "execution_count": 6,
   "id": "1e5d2ffa",
   "metadata": {},
   "outputs": [],
   "source": [
    "XA_train, XA_test, y_train, y_test = train_test_split(XA, y, test_size=0.30, random_state=211)\n",
    "XN_train, XN_test, y_train, y_test = train_test_split(XN, y, test_size=0.30, random_state=211)"
   ]
  },
  {
   "cell_type": "code",
   "execution_count": 7,
   "id": "1032803f",
   "metadata": {},
   "outputs": [],
   "source": [
    "scalerA = StandardScaler()\n",
    "scalerA.fit(XA_train)\n",
    "XA_train_s = scalerA.transform(XA_train)\n",
    "XA_test_s = scalerA.transform(XA_test)"
   ]
  },
  {
   "cell_type": "code",
   "execution_count": 8,
   "id": "8955d9bd",
   "metadata": {},
   "outputs": [
    {
     "data": {
      "text/plain": [
       "8"
      ]
     },
     "execution_count": 8,
     "metadata": {},
     "output_type": "execute_result"
    }
   ],
   "source": [
    "XA_train_s.shape[1]"
   ]
  },
  {
   "cell_type": "code",
   "execution_count": 9,
   "id": "7c513073",
   "metadata": {},
   "outputs": [
    {
     "data": {
      "text/plain": [
       "3"
      ]
     },
     "execution_count": 9,
     "metadata": {},
     "output_type": "execute_result"
    }
   ],
   "source": [
    "y_train.shape[1]"
   ]
  },
  {
   "cell_type": "code",
   "execution_count": null,
   "id": "601ea06b",
   "metadata": {},
   "outputs": [],
   "source": []
  },
  {
   "cell_type": "code",
   "execution_count": 10,
   "id": "52ed961c",
   "metadata": {},
   "outputs": [],
   "source": [
    "DNmodelA = keras.Sequential()\n",
    "\n",
    "DNmodelA.add(layers.Dense(units=30, activation='relu' , input_dim= int(XA_train_s.shape[1])))\n",
    "\n",
    "DNmodelA.add(layers.Dense(units=30, activation='relu'))\n",
    "\n",
    "DNmodelA.add(layers.Dense(units=y_train.shape[1], activation='relu'))\n",
    "\n",
    "DNmodelA.compile(optimizer=keras.optimizers.Adam(),\n",
    "                 loss=keras.losses.MeanSquaredError(),\n",
    "                 metrics=keras.metrics.MeanSquaredError()\n",
    "                )"
   ]
  },
  {
   "cell_type": "code",
   "execution_count": 11,
   "id": "faf85ec0",
   "metadata": {},
   "outputs": [
    {
     "name": "stdout",
     "output_type": "stream",
     "text": [
      "Epoch 1/100\n",
      "400/400 [==============================] - 1s 730us/step - loss: 1.3910 - mean_squared_error: 1.3910\n",
      "Epoch 2/100\n",
      "400/400 [==============================] - 0s 716us/step - loss: 0.1875 - mean_squared_error: 0.1875\n",
      "Epoch 3/100\n",
      "400/400 [==============================] - 0s 715us/step - loss: 0.1351 - mean_squared_error: 0.1351\n",
      "Epoch 4/100\n",
      "400/400 [==============================] - 0s 707us/step - loss: 0.1097 - mean_squared_error: 0.1097\n",
      "Epoch 5/100\n",
      "400/400 [==============================] - 0s 706us/step - loss: 0.0884 - mean_squared_error: 0.0884\n",
      "Epoch 6/100\n",
      "400/400 [==============================] - 0s 701us/step - loss: 0.0719 - mean_squared_error: 0.0719\n",
      "Epoch 7/100\n",
      "400/400 [==============================] - 0s 695us/step - loss: 0.0600 - mean_squared_error: 0.0600\n",
      "Epoch 8/100\n",
      "400/400 [==============================] - 0s 703us/step - loss: 0.0508 - mean_squared_error: 0.0508\n",
      "Epoch 9/100\n",
      "400/400 [==============================] - 0s 702us/step - loss: 0.0400 - mean_squared_error: 0.0400\n",
      "Epoch 10/100\n",
      "400/400 [==============================] - 0s 710us/step - loss: 0.0343 - mean_squared_error: 0.0343\n",
      "Epoch 11/100\n",
      "400/400 [==============================] - 0s 711us/step - loss: 0.0290 - mean_squared_error: 0.0290\n",
      "Epoch 12/100\n",
      "400/400 [==============================] - 0s 715us/step - loss: 0.0240 - mean_squared_error: 0.0240\n",
      "Epoch 13/100\n",
      "400/400 [==============================] - 0s 708us/step - loss: 0.0211 - mean_squared_error: 0.0211\n",
      "Epoch 14/100\n",
      "400/400 [==============================] - 0s 706us/step - loss: 0.0188 - mean_squared_error: 0.0188\n",
      "Epoch 15/100\n",
      "400/400 [==============================] - 0s 708us/step - loss: 0.0158 - mean_squared_error: 0.0158\n",
      "Epoch 16/100\n",
      "400/400 [==============================] - 0s 698us/step - loss: 0.0148 - mean_squared_error: 0.0148\n",
      "Epoch 17/100\n",
      "400/400 [==============================] - 0s 697us/step - loss: 0.0134 - mean_squared_error: 0.0134\n",
      "Epoch 18/100\n",
      "400/400 [==============================] - 0s 705us/step - loss: 0.0123 - mean_squared_error: 0.0123\n",
      "Epoch 19/100\n",
      "400/400 [==============================] - 0s 706us/step - loss: 0.0114 - mean_squared_error: 0.0114\n",
      "Epoch 20/100\n",
      "400/400 [==============================] - 0s 710us/step - loss: 0.0107 - mean_squared_error: 0.0107\n",
      "Epoch 21/100\n",
      "400/400 [==============================] - 0s 710us/step - loss: 0.0098 - mean_squared_error: 0.0098\n",
      "Epoch 22/100\n",
      "400/400 [==============================] - 0s 716us/step - loss: 0.0093 - mean_squared_error: 0.0093\n",
      "Epoch 23/100\n",
      "400/400 [==============================] - 0s 703us/step - loss: 0.0090 - mean_squared_error: 0.0090\n",
      "Epoch 24/100\n",
      "400/400 [==============================] - 0s 704us/step - loss: 0.0086 - mean_squared_error: 0.0086\n",
      "Epoch 25/100\n",
      "400/400 [==============================] - 0s 709us/step - loss: 0.0078 - mean_squared_error: 0.0078\n",
      "Epoch 26/100\n",
      "400/400 [==============================] - 0s 697us/step - loss: 0.0079 - mean_squared_error: 0.0079\n",
      "Epoch 27/100\n",
      "400/400 [==============================] - 0s 725us/step - loss: 0.0075 - mean_squared_error: 0.0075\n",
      "Epoch 28/100\n",
      "400/400 [==============================] - 0s 710us/step - loss: 0.0070 - mean_squared_error: 0.0070\n",
      "Epoch 29/100\n",
      "400/400 [==============================] - 0s 717us/step - loss: 0.0067 - mean_squared_error: 0.0067\n",
      "Epoch 30/100\n",
      "400/400 [==============================] - 0s 719us/step - loss: 0.0066 - mean_squared_error: 0.0066\n",
      "Epoch 31/100\n",
      "400/400 [==============================] - 0s 713us/step - loss: 0.0062 - mean_squared_error: 0.0062\n",
      "Epoch 32/100\n",
      "400/400 [==============================] - 0s 712us/step - loss: 0.0058 - mean_squared_error: 0.0058\n",
      "Epoch 33/100\n",
      "400/400 [==============================] - 0s 711us/step - loss: 0.0060 - mean_squared_error: 0.0060\n",
      "Epoch 34/100\n",
      "400/400 [==============================] - 0s 716us/step - loss: 0.0058 - mean_squared_error: 0.0058\n",
      "Epoch 35/100\n",
      "400/400 [==============================] - 0s 715us/step - loss: 0.0056 - mean_squared_error: 0.0056\n",
      "Epoch 36/100\n",
      "400/400 [==============================] - 0s 713us/step - loss: 0.0061 - mean_squared_error: 0.0061\n",
      "Epoch 37/100\n",
      "400/400 [==============================] - 0s 698us/step - loss: 0.0055 - mean_squared_error: 0.0055\n",
      "Epoch 38/100\n",
      "400/400 [==============================] - 0s 711us/step - loss: 0.0053 - mean_squared_error: 0.0053\n",
      "Epoch 39/100\n",
      "400/400 [==============================] - 0s 711us/step - loss: 0.0048 - mean_squared_error: 0.0048\n",
      "Epoch 40/100\n",
      "400/400 [==============================] - 0s 705us/step - loss: 0.0046 - mean_squared_error: 0.0046\n",
      "Epoch 41/100\n",
      "400/400 [==============================] - 0s 710us/step - loss: 0.0047 - mean_squared_error: 0.0047\n",
      "Epoch 42/100\n",
      "400/400 [==============================] - 0s 722us/step - loss: 0.0043 - mean_squared_error: 0.0043\n",
      "Epoch 43/100\n",
      "400/400 [==============================] - 0s 714us/step - loss: 0.0042 - mean_squared_error: 0.0042\n",
      "Epoch 44/100\n",
      "400/400 [==============================] - 0s 704us/step - loss: 0.0046 - mean_squared_error: 0.0046\n",
      "Epoch 45/100\n",
      "400/400 [==============================] - 0s 721us/step - loss: 0.0045 - mean_squared_error: 0.0045\n",
      "Epoch 46/100\n",
      "400/400 [==============================] - 0s 711us/step - loss: 0.0043 - mean_squared_error: 0.0043\n",
      "Epoch 47/100\n",
      "400/400 [==============================] - 0s 710us/step - loss: 0.0038 - mean_squared_error: 0.0038\n",
      "Epoch 48/100\n",
      "400/400 [==============================] - 0s 719us/step - loss: 0.0042 - mean_squared_error: 0.0042\n",
      "Epoch 49/100\n",
      "400/400 [==============================] - 0s 729us/step - loss: 0.0034 - mean_squared_error: 0.0034\n",
      "Epoch 50/100\n",
      "400/400 [==============================] - 0s 718us/step - loss: 0.0039 - mean_squared_error: 0.0039\n",
      "Epoch 51/100\n",
      "400/400 [==============================] - 0s 707us/step - loss: 0.0039 - mean_squared_error: 0.0039\n",
      "Epoch 52/100\n",
      "400/400 [==============================] - 0s 706us/step - loss: 0.0033 - mean_squared_error: 0.0033\n",
      "Epoch 53/100\n",
      "400/400 [==============================] - 0s 715us/step - loss: 0.0034 - mean_squared_error: 0.0034\n",
      "Epoch 54/100\n",
      "400/400 [==============================] - 0s 698us/step - loss: 0.0036 - mean_squared_error: 0.0036\n",
      "Epoch 55/100\n",
      "400/400 [==============================] - 0s 711us/step - loss: 0.0032 - mean_squared_error: 0.0032\n",
      "Epoch 56/100\n",
      "400/400 [==============================] - 0s 721us/step - loss: 0.0035 - mean_squared_error: 0.0035\n",
      "Epoch 57/100\n",
      "400/400 [==============================] - 0s 713us/step - loss: 0.0038 - mean_squared_error: 0.0038\n",
      "Epoch 58/100\n",
      "400/400 [==============================] - 0s 712us/step - loss: 0.0030 - mean_squared_error: 0.0030\n",
      "Epoch 59/100\n",
      "400/400 [==============================] - 0s 722us/step - loss: 0.0035 - mean_squared_error: 0.0035\n",
      "Epoch 60/100\n",
      "400/400 [==============================] - 0s 705us/step - loss: 0.0031 - mean_squared_error: 0.0031\n",
      "Epoch 61/100\n",
      "400/400 [==============================] - 0s 707us/step - loss: 0.0033 - mean_squared_error: 0.0033\n",
      "Epoch 62/100\n",
      "400/400 [==============================] - 0s 718us/step - loss: 0.0029 - mean_squared_error: 0.0029\n",
      "Epoch 63/100\n",
      "400/400 [==============================] - 0s 702us/step - loss: 0.0030 - mean_squared_error: 0.0030\n",
      "Epoch 64/100\n",
      "400/400 [==============================] - 0s 710us/step - loss: 0.0029 - mean_squared_error: 0.0029\n",
      "Epoch 65/100\n",
      "400/400 [==============================] - 0s 716us/step - loss: 0.0030 - mean_squared_error: 0.0030\n",
      "Epoch 66/100\n",
      "400/400 [==============================] - 0s 719us/step - loss: 0.0026 - mean_squared_error: 0.0026\n",
      "Epoch 67/100\n",
      "400/400 [==============================] - 0s 707us/step - loss: 0.0027 - mean_squared_error: 0.0027\n",
      "Epoch 68/100\n",
      "400/400 [==============================] - 0s 721us/step - loss: 0.0029 - mean_squared_error: 0.0029\n",
      "Epoch 69/100\n",
      "400/400 [==============================] - 0s 711us/step - loss: 0.0036 - mean_squared_error: 0.0036\n",
      "Epoch 70/100\n",
      "400/400 [==============================] - 0s 725us/step - loss: 0.0030 - mean_squared_error: 0.0030\n",
      "Epoch 71/100\n",
      "400/400 [==============================] - 0s 711us/step - loss: 0.0031 - mean_squared_error: 0.0031\n",
      "Epoch 72/100\n",
      "400/400 [==============================] - 0s 709us/step - loss: 0.0026 - mean_squared_error: 0.0026\n"
     ]
    },
    {
     "name": "stdout",
     "output_type": "stream",
     "text": [
      "Epoch 73/100\n",
      "400/400 [==============================] - 0s 716us/step - loss: 0.0027 - mean_squared_error: 0.0027\n",
      "Epoch 74/100\n",
      "400/400 [==============================] - 0s 694us/step - loss: 0.0029 - mean_squared_error: 0.0029\n",
      "Epoch 75/100\n",
      "400/400 [==============================] - 0s 706us/step - loss: 0.0027 - mean_squared_error: 0.0027\n",
      "Epoch 76/100\n",
      "400/400 [==============================] - 0s 695us/step - loss: 0.0028 - mean_squared_error: 0.0028\n",
      "Epoch 77/100\n",
      "400/400 [==============================] - 0s 713us/step - loss: 0.0029 - mean_squared_error: 0.0029\n",
      "Epoch 78/100\n",
      "400/400 [==============================] - 0s 715us/step - loss: 0.0025 - mean_squared_error: 0.0025\n",
      "Epoch 79/100\n",
      "400/400 [==============================] - 0s 704us/step - loss: 0.0027 - mean_squared_error: 0.0027\n",
      "Epoch 80/100\n",
      "400/400 [==============================] - 0s 705us/step - loss: 0.0026 - mean_squared_error: 0.0026\n",
      "Epoch 81/100\n",
      "400/400 [==============================] - 0s 695us/step - loss: 0.0026 - mean_squared_error: 0.0026\n",
      "Epoch 82/100\n",
      "400/400 [==============================] - 0s 705us/step - loss: 0.0025 - mean_squared_error: 0.0025\n",
      "Epoch 83/100\n",
      "400/400 [==============================] - 0s 713us/step - loss: 0.0025 - mean_squared_error: 0.0025\n",
      "Epoch 84/100\n",
      "400/400 [==============================] - 0s 701us/step - loss: 0.0024 - mean_squared_error: 0.0024\n",
      "Epoch 85/100\n",
      "400/400 [==============================] - 0s 696us/step - loss: 0.0027 - mean_squared_error: 0.0027\n",
      "Epoch 86/100\n",
      "400/400 [==============================] - 0s 711us/step - loss: 0.0023 - mean_squared_error: 0.0023\n",
      "Epoch 87/100\n",
      "400/400 [==============================] - 0s 706us/step - loss: 0.0023 - mean_squared_error: 0.0023\n",
      "Epoch 88/100\n",
      "400/400 [==============================] - 0s 699us/step - loss: 0.0025 - mean_squared_error: 0.0025\n",
      "Epoch 89/100\n",
      "400/400 [==============================] - 0s 702us/step - loss: 0.0025 - mean_squared_error: 0.0025\n",
      "Epoch 90/100\n",
      "400/400 [==============================] - 0s 722us/step - loss: 0.0030 - mean_squared_error: 0.0030\n",
      "Epoch 91/100\n",
      "400/400 [==============================] - 0s 699us/step - loss: 0.0019 - mean_squared_error: 0.0019\n",
      "Epoch 92/100\n",
      "400/400 [==============================] - 0s 700us/step - loss: 0.0022 - mean_squared_error: 0.0022\n",
      "Epoch 93/100\n",
      "400/400 [==============================] - 0s 701us/step - loss: 0.0028 - mean_squared_error: 0.0028\n",
      "Epoch 94/100\n",
      "400/400 [==============================] - 0s 708us/step - loss: 0.0023 - mean_squared_error: 0.0023\n",
      "Epoch 95/100\n",
      "400/400 [==============================] - 0s 702us/step - loss: 0.0022 - mean_squared_error: 0.0022\n",
      "Epoch 96/100\n",
      "400/400 [==============================] - 0s 704us/step - loss: 0.0023 - mean_squared_error: 0.0023\n",
      "Epoch 97/100\n",
      "400/400 [==============================] - 0s 706us/step - loss: 0.0031 - mean_squared_error: 0.0031\n",
      "Epoch 98/100\n",
      "400/400 [==============================] - 0s 699us/step - loss: 0.0021 - mean_squared_error: 0.0021\n",
      "Epoch 99/100\n",
      "400/400 [==============================] - 0s 704us/step - loss: 0.0022 - mean_squared_error: 0.0022\n",
      "Epoch 100/100\n",
      "400/400 [==============================] - 0s 709us/step - loss: 0.0026 - mean_squared_error: 0.0026\n"
     ]
    },
    {
     "data": {
      "text/plain": [
       "<keras.callbacks.History at 0x20d24619730>"
      ]
     },
     "execution_count": 11,
     "metadata": {},
     "output_type": "execute_result"
    }
   ],
   "source": [
    "DNmodelA.fit(XA_train_s, y_train, epochs= 100, batch_size=10)"
   ]
  },
  {
   "cell_type": "code",
   "execution_count": 12,
   "id": "00c69688",
   "metadata": {},
   "outputs": [
    {
     "name": "stdout",
     "output_type": "stream",
     "text": [
      "Model: \"sequential\"\n",
      "_________________________________________________________________\n",
      " Layer (type)                Output Shape              Param #   \n",
      "=================================================================\n",
      " dense (Dense)               (None, 30)                270       \n",
      "                                                                 \n",
      " dense_1 (Dense)             (None, 30)                930       \n",
      "                                                                 \n",
      " dense_2 (Dense)             (None, 3)                 93        \n",
      "                                                                 \n",
      "=================================================================\n",
      "Total params: 1,293\n",
      "Trainable params: 1,293\n",
      "Non-trainable params: 0\n",
      "_________________________________________________________________\n"
     ]
    }
   ],
   "source": [
    "DNmodelA.summary()"
   ]
  },
  {
   "cell_type": "code",
   "execution_count": 13,
   "id": "0220304b",
   "metadata": {},
   "outputs": [
    {
     "name": "stdout",
     "output_type": "stream",
     "text": [
      "54/54 [==============================] - 0s 489us/step\n"
     ]
    }
   ],
   "source": [
    "DNmodelA_pred = DNmodelA.predict(XA_test_s)"
   ]
  },
  {
   "cell_type": "code",
   "execution_count": 25,
   "id": "5cdd941f",
   "metadata": {},
   "outputs": [
    {
     "data": {
      "text/plain": [
       "<matplotlib.collections.PathCollection at 0x20d32bd0220>"
      ]
     },
     "execution_count": 25,
     "metadata": {},
     "output_type": "execute_result"
    },
    {
     "data": {
      "image/png": "[encoded data removed]",
      "text/plain": [
       "<Figure size 300x900 with 3 Axes>"
      ]
     },
     "metadata": {
      "needs_background": "light"
     },
     "output_type": "display_data"
    },
    {
     "data": {
      "text/plain": [
       "<Figure size 432x288 with 0 Axes>"
      ]
     },
     "metadata": {},
     "output_type": "display_data"
    }
   ],
   "source": [
    "fig, axes = plt.subplots(nrows=3, ncols=1, figsize=(3,9), dpi=100)\n",
    "fig = plt.figure()\n",
    "\n",
    "axes[0].plot(np.arange(2,10), np.arange(2,10), color = \"red\")\n",
    "axes[0].scatter(y_test[\"SRD (MJ/kg CO2)\"], DNmodelA_pred[: , 0])\n",
    "\n",
    "\n",
    "axes[1].plot(np.arange(0,7), np.arange(0,7), color = \"red\")\n",
    "axes[1].scatter(y_test['Condensor Specific Duty'], DNmodelA_pred[: , 1])\n",
    "\n",
    "\n",
    "axes[2].plot(np.arange(0,5), np.arange(0,5), color = \"red\")\n",
    "axes[2].scatter(y_test['SCD (MJ/kg)'], DNmodelA_pred[: , 2])\n"
   ]
  },
  {
   "cell_type": "code",
   "execution_count": null,
   "id": "5437105a",
   "metadata": {},
   "outputs": [],
   "source": []
  }
 ],
 "metadata": {
  "kernelspec": {
   "display_name": "Python 3 (ipykernel)",
   "language": "python",
   "name": "python3"
  },
  "language_info": {
   "codemirror_mode": {
    "name": "ipython",
    "version": 3
   },
   "file_extension": ".py",
   "mimetype": "text/x-python",
   "name": "python",
   "nbconvert_exporter": "python",
   "pygments_lexer": "ipython3",
   "version": "3.9.12"
  }
 },
 "nbformat": 4,
 "nbformat_minor": 5
}
