{
 "cells": [
  {
   "cell_type": "code",
   "execution_count": 1,
   "id": "c20042a5",
   "metadata": {},
   "outputs": [],
   "source": [
    "import numpy as np\n",
    "import pandas as pd\n",
    "import matplotlib.pyplot as plt\n",
    "import seaborn as sns"
   ]
  },
  {
   "cell_type": "code",
   "execution_count": 2,
   "id": "85344c3c",
   "metadata": {},
   "outputs": [],
   "source": [
    "df = pd.read_excel(\"data\\\\data.xlsx\")\n",
    "df = df[df[\"LMTD\"] > 0]\n",
    "df = df[df[\"LA Chilling Duty\"] >= 0]\n",
    "df[\"SCD (MJ/kg)\"] = (0.001 * df[\"LA Chilling Duty\"]) / df[\"Captured CO2 (kg/h)\"]"
   ]
  },
  {
   "cell_type": "code",
   "execution_count": 3,
   "id": "3a4c73a4",
   "metadata": {},
   "outputs": [],
   "source": [
    "from sklearn.model_selection import train_test_split\n",
    "from sklearn.multioutput import MultiOutputRegressor\n",
    "from sklearn.preprocessing import StandardScaler\n",
    "from sklearn.pipeline import Pipeline\n",
    "from sklearn.metrics import mean_absolute_error, mean_squared_error, mean_absolute_percentage_error, r2_score\n",
    "from joblib import dump, load"
   ]
  },
  {
   "cell_type": "code",
   "execution_count": 4,
   "id": "4b6b70c6",
   "metadata": {},
   "outputs": [],
   "source": [
    "from sklearn.linear_model import LinearRegression\n",
    "from sklearn.preprocessing import PolynomialFeatures\n",
    "from sklearn.model_selection import cross_validate\n",
    "from sklearn.model_selection import cross_val_score"
   ]
  },
  {
   "cell_type": "code",
   "execution_count": 5,
   "id": "e7e7ed2e",
   "metadata": {},
   "outputs": [],
   "source": [
    "XA = df[[\"FG Temperature\", \"Lean Loading\",'Lean Amine Temperature','L/G (kg/kg)','Flue gas CO2 cons','CO2 Capture Efficiency','LMTD','Abs Height']]\n",
    "XN = df[[\"FG Temperature\", \"Lean Loading\",'Lean Amine Temperature','L/G (kg/kg)','Flue gas CO2 cons','CO2 Capture Efficiency']]\n",
    "y = df[[\"SRD (MJ/kg CO2)\", \"Condensor Specific Duty\", \"SCD (MJ/kg)\"]]"
   ]
  },
  {
   "cell_type": "code",
   "execution_count": 6,
   "id": "09796c0f",
   "metadata": {},
   "outputs": [],
   "source": [
    "XA_train, XA_test, y_train, y_test = train_test_split(XA, y, test_size=0.30, random_state=211)\n",
    "XN_train, XN_test, y_train, y_test = train_test_split(XN, y, test_size=0.30, random_state=211)"
   ]
  },
  {
   "cell_type": "code",
   "execution_count": 7,
   "id": "f07b3ac4",
   "metadata": {},
   "outputs": [],
   "source": [
    "## Let's find out the model we need to select\n",
    "maxdegree=10 # The maximum degree we would like to test\n",
    "RMSE_of_models=[]\n",
    "model = LinearRegression()\n",
    "\n",
    "for d in range(2, maxdegree+1):\n",
    "    XA_train_pol = PolynomialFeatures(degree=d).fit_transform(XA_train)\n",
    "    XA_train_sta = StandardScaler().fit_transform(XA_train_pol)\n",
    "    scores = cross_val_score(model, XA_train_sta, y_train['SRD (MJ/kg CO2)'], cv=5, scoring='neg_mean_squared_error', n_jobs=-1)\n",
    "    rmse = np.sqrt(np.abs(scores)).mean()\n",
    "    RMSE_of_models.append(rmse)"
   ]
  },
  {
   "cell_type": "code",
   "execution_count": 8,
   "id": "7fcea4ee",
   "metadata": {},
   "outputs": [
    {
     "data": {
      "text/plain": [
       "[0.2832212136934566,\n",
       " 0.08450848121290966,\n",
       " 0.03805603821580624,\n",
       " 0.02478617996537926,\n",
       " 0.036917593513553594,\n",
       " 0.10611296000960965,\n",
       " 0.11387467661445227,\n",
       " 0.1219787404984718,\n",
       " 0.1304474892986808]"
      ]
     },
     "execution_count": 8,
     "metadata": {},
     "output_type": "execute_result"
    }
   ],
   "source": [
    "RMSE_of_models"
   ]
  },
  {
   "cell_type": "code",
   "execution_count": 9,
   "id": "14fc6f84",
   "metadata": {},
   "outputs": [
    {
     "data": {
      "image/png": "[encoded data removed]",
      "text/plain": [
       "<Figure size 432x432 with 1 Axes>"
      ]
     },
     "metadata": {
      "needs_background": "light"
     },
     "output_type": "display_data"
    }
   ],
   "source": [
    "fig,ax=plt.subplots(figsize=(6,6))\n",
    "ax.plot(range(2,maxdegree+1),RMSE_of_models)\n",
    "ax.set_xlabel('Degree',fontsize=20)\n",
    "ax.set_ylabel('RMSE',fontsize=20)\n",
    "ax.set_title('RMSE VS Degree',fontsize=25)\n",
    "plt.show()"
   ]
  },
  {
   "cell_type": "code",
   "execution_count": null,
   "id": "f05cad55",
   "metadata": {},
   "outputs": [],
   "source": []
  },
  {
   "cell_type": "code",
   "execution_count": null,
   "id": "74433cb3",
   "metadata": {},
   "outputs": [],
   "source": []
  }
 ],
 "metadata": {
  "kernelspec": {
   "display_name": "Python 3 (ipykernel)",
   "language": "python",
   "name": "python3"
  },
  "language_info": {
   "codemirror_mode": {
    "name": "ipython",
    "version": 3
   },
   "file_extension": ".py",
   "mimetype": "text/x-python",
   "name": "python",
   "nbconvert_exporter": "python",
   "pygments_lexer": "ipython3",
   "version": "3.9.12"
  }
 },
 "nbformat": 4,
 "nbformat_minor": 5
}
