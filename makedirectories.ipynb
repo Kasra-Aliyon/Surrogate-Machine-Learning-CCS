{
 "cells": [
  {
   "cell_type": "code",
   "execution_count": 1,
   "id": "ed96415e",
   "metadata": {},
   "outputs": [],
   "source": [
    "import os"
   ]
  },
  {
   "cell_type": "code",
   "execution_count": 2,
   "id": "5468b7b9",
   "metadata": {},
   "outputs": [],
   "source": [
    "def mkdir(path):\n",
    "    try: \n",
    "        os.makedirs(path)\n",
    "    except OSError:\n",
    "        if not os.path.isdir(path):\n",
    "            raise\n",
    "        else:\n",
    "            print(\"{} already exists\".format(path))"
   ]
  },
  {
   "cell_type": "code",
   "execution_count": 3,
   "id": "560d7b63",
   "metadata": {},
   "outputs": [
    {
     "name": "stdout",
     "output_type": "stream",
     "text": [
      "data already exists\n"
     ]
    }
   ],
   "source": [
    "mkdir(\"data\")\n",
    "mkdir(\"Tables\")\n",
    "mkdir(\"Figures\")\n",
    "mkdir(\"Finalized_Models\")\n"
   ]
  }
 ],
 "metadata": {
  "kernelspec": {
   "display_name": "Python 3 (ipykernel)",
   "language": "python",
   "name": "python3"
  },
  "language_info": {
   "codemirror_mode": {
    "name": "ipython",
    "version": 3
   },
   "file_extension": ".py",
   "mimetype": "text/x-python",
   "name": "python",
   "nbconvert_exporter": "python",
   "pygments_lexer": "ipython3",
   "version": "3.9.12"
  }
 },
 "nbformat": 4,
 "nbformat_minor": 5
}
