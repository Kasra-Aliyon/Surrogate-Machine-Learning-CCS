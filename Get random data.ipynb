{
 "cells": [
  {
   "cell_type": "markdown",
   "id": "abb8a20e",
   "metadata": {},
   "source": [
    "#### Import necessary packages and datasets"
   ]
  },
  {
   "cell_type": "code",
   "execution_count": 1,
   "id": "39b6f114",
   "metadata": {},
   "outputs": [],
   "source": [
    "import numpy as np\n",
    "import pandas as pd\n",
    "import matplotlib.pyplot as plt\n",
    "import seaborn as sns"
   ]
  },
  {
   "cell_type": "code",
   "execution_count": 2,
   "id": "8db9d0e0",
   "metadata": {},
   "outputs": [
    {
     "name": "stdout",
     "output_type": "stream",
     "text": [
      "Number of instance in the dataset is :9720\n"
     ]
    }
   ],
   "source": [
    "df = pd.read_excel(\"data\\\\data.xlsx\")\n",
    "print(\"Number of instance in the dataset is :{}\".format(len(df)))"
   ]
  },
  {
   "cell_type": "code",
   "execution_count": 3,
   "id": "41eef7b3",
   "metadata": {},
   "outputs": [
    {
     "name": "stdout",
     "output_type": "stream",
     "text": [
      "Number of instance in the dataset is :8480\n"
     ]
    }
   ],
   "source": [
    "df = df[df[\"LMTD\"] > 0]\n",
    "print(\"Number of instance in the dataset is :{}\".format(len(df)))"
   ]
  },
  {
   "cell_type": "code",
   "execution_count": 4,
   "id": "1d659dde",
   "metadata": {},
   "outputs": [
    {
     "name": "stdout",
     "output_type": "stream",
     "text": [
      "Number of instance in the dataset is :5704\n"
     ]
    }
   ],
   "source": [
    "# Drop the data points with non positive chilling Duty\n",
    "df = df[df[\"LA Chilling Duty\"] >= 0]\n",
    "print(\"Number of instance in the dataset is :{}\".format(len(df)))"
   ]
  },
  {
   "cell_type": "code",
   "execution_count": 5,
   "id": "812cad8b",
   "metadata": {},
   "outputs": [],
   "source": [
    "df[\"SLAD (MJ/kg)\"] = (0.001 * df[\"LA Chilling Duty\"]) / df[\"Captured CO2 (kg/h)\"]"
   ]
  },
  {
   "cell_type": "markdown",
   "id": "2f5ce74a",
   "metadata": {},
   "source": [
    "## Exploring the data"
   ]
  },
  {
   "cell_type": "code",
   "execution_count": 6,
   "id": "258426f9",
   "metadata": {},
   "outputs": [
    {
     "data": {
      "text/plain": [
       "Index(['State', 'FG Massflow (kg/h)', 'Flue gas CO2 cons', 'FG Temperature',\n",
       "       'Lean Amine Mass flow (kg/h)', 'Lean Amine Temperature',\n",
       "       'WWT Flow rate', 'WWB Flow rate', 'RA2Reg-Temperature',\n",
       "       'Reboiler Duty (kJ/h)', 'LA Chilling Duty', 'WWT Cooling Duty',\n",
       "       'WWT Cooling Duty2', 'MEA Emission PPM', 'CO2 Mass Flow @ Off Gas',\n",
       "       'MEA Emission', 'FG Flue Rate (Sm3/h)', 'L/G (kg/kg)', 'L/G (kg/Sm3)',\n",
       "       'Lean Loading', 'Captured CO2 (kg/h)', 'CO2 Capture Efficiency',\n",
       "       'Rich Loading', 'RA Flow Rate', 'RA Temp after Abs', 'Reboiler Duty',\n",
       "       'Condensor Duty (kJ/h)', 'SRD (MJ/kg CO2)', 'Condensor Specific Duty',\n",
       "       'CO2 Product purity', 'CO2 Production Mass Flow', 'Reg Bttm Temp',\n",
       "       'Reg Bttm Flow Rate', 'LA after HE', 'Left Min Apprch',\n",
       "       'Right Min Appr', 'LMTD', 'MEA Makeup', 'Abs Height', 'SLAD (MJ/kg)'],\n",
       "      dtype='object')"
      ]
     },
     "execution_count": 6,
     "metadata": {},
     "output_type": "execute_result"
    }
   ],
   "source": [
    "df.columns"
   ]
  },
  {
   "cell_type": "code",
   "execution_count": 7,
   "id": "abe7ce80",
   "metadata": {},
   "outputs": [
    {
     "data": {
      "text/html": [
       "<div>\n",
       "<style scoped>\n",
       "    .dataframe tbody tr th:only-of-type {\n",
       "        vertical-align: middle;\n",
       "    }\n",
       "\n",
       "    .dataframe tbody tr th {\n",
       "        vertical-align: top;\n",
       "    }\n",
       "\n",
       "    .dataframe thead th {\n",
       "        text-align: right;\n",
       "    }\n",
       "</style>\n",
       "<table border=\"1\" class=\"dataframe\">\n",
       "  <thead>\n",
       "    <tr style=\"text-align: right;\">\n",
       "      <th></th>\n",
       "      <th>count</th>\n",
       "      <th>mean</th>\n",
       "      <th>std</th>\n",
       "      <th>min</th>\n",
       "      <th>25%</th>\n",
       "      <th>50%</th>\n",
       "      <th>75%</th>\n",
       "      <th>max</th>\n",
       "    </tr>\n",
       "  </thead>\n",
       "  <tbody>\n",
       "    <tr>\n",
       "      <th>FG Massflow (kg/h)</th>\n",
       "      <td>5704.0</td>\n",
       "      <td>7.207411e+04</td>\n",
       "      <td>1.031939e+01</td>\n",
       "      <td>7.207000e+04</td>\n",
       "      <td>7.207000e+04</td>\n",
       "      <td>7.207000e+04</td>\n",
       "      <td>7.207000e+04</td>\n",
       "      <td>7.210000e+04</td>\n",
       "    </tr>\n",
       "    <tr>\n",
       "      <th>Flue gas CO2 cons</th>\n",
       "      <td>5704.0</td>\n",
       "      <td>8.359599e-02</td>\n",
       "      <td>3.298276e-02</td>\n",
       "      <td>3.600000e-02</td>\n",
       "      <td>5.950000e-02</td>\n",
       "      <td>9.050000e-02</td>\n",
       "      <td>1.088000e-01</td>\n",
       "      <td>1.324000e-01</td>\n",
       "    </tr>\n",
       "    <tr>\n",
       "      <th>FG Temperature</th>\n",
       "      <td>5704.0</td>\n",
       "      <td>3.695126e+01</td>\n",
       "      <td>1.178362e+01</td>\n",
       "      <td>2.000000e+01</td>\n",
       "      <td>2.000000e+01</td>\n",
       "      <td>3.500000e+01</td>\n",
       "      <td>5.000000e+01</td>\n",
       "      <td>5.000000e+01</td>\n",
       "    </tr>\n",
       "    <tr>\n",
       "      <th>Lean Amine Mass flow (kg/h)</th>\n",
       "      <td>5704.0</td>\n",
       "      <td>1.351625e+05</td>\n",
       "      <td>8.233373e+04</td>\n",
       "      <td>4.160000e+04</td>\n",
       "      <td>8.120000e+04</td>\n",
       "      <td>1.010000e+05</td>\n",
       "      <td>1.670000e+05</td>\n",
       "      <td>3.000000e+05</td>\n",
       "    </tr>\n",
       "    <tr>\n",
       "      <th>Lean Amine Temperature</th>\n",
       "      <td>5704.0</td>\n",
       "      <td>3.728787e+01</td>\n",
       "      <td>7.417124e+00</td>\n",
       "      <td>3.000000e+01</td>\n",
       "      <td>3.000000e+01</td>\n",
       "      <td>4.000000e+01</td>\n",
       "      <td>4.000000e+01</td>\n",
       "      <td>5.000000e+01</td>\n",
       "    </tr>\n",
       "    <tr>\n",
       "      <th>WWT Flow rate</th>\n",
       "      <td>5704.0</td>\n",
       "      <td>5.500000e+04</td>\n",
       "      <td>0.000000e+00</td>\n",
       "      <td>5.500000e+04</td>\n",
       "      <td>5.500000e+04</td>\n",
       "      <td>5.500000e+04</td>\n",
       "      <td>5.500000e+04</td>\n",
       "      <td>5.500000e+04</td>\n",
       "    </tr>\n",
       "    <tr>\n",
       "      <th>WWB Flow rate</th>\n",
       "      <td>5704.0</td>\n",
       "      <td>5.500863e+04</td>\n",
       "      <td>3.439796e+00</td>\n",
       "      <td>5.500000e+04</td>\n",
       "      <td>5.501000e+04</td>\n",
       "      <td>5.501000e+04</td>\n",
       "      <td>5.501000e+04</td>\n",
       "      <td>5.501000e+04</td>\n",
       "    </tr>\n",
       "    <tr>\n",
       "      <th>RA2Reg-Temperature</th>\n",
       "      <td>5704.0</td>\n",
       "      <td>1.043051e+02</td>\n",
       "      <td>1.206691e+00</td>\n",
       "      <td>1.030000e+02</td>\n",
       "      <td>1.030000e+02</td>\n",
       "      <td>1.045000e+02</td>\n",
       "      <td>1.060000e+02</td>\n",
       "      <td>1.060000e+02</td>\n",
       "    </tr>\n",
       "    <tr>\n",
       "      <th>Reboiler Duty (kJ/h)</th>\n",
       "      <td>5704.0</td>\n",
       "      <td>3.078945e+07</td>\n",
       "      <td>1.236984e+07</td>\n",
       "      <td>1.000000e+07</td>\n",
       "      <td>2.000000e+07</td>\n",
       "      <td>3.000000e+07</td>\n",
       "      <td>4.400000e+07</td>\n",
       "      <td>5.200000e+07</td>\n",
       "    </tr>\n",
       "    <tr>\n",
       "      <th>LA Chilling Duty</th>\n",
       "      <td>5704.0</td>\n",
       "      <td>6.601097e+06</td>\n",
       "      <td>6.968066e+06</td>\n",
       "      <td>1.936000e+03</td>\n",
       "      <td>1.786000e+06</td>\n",
       "      <td>3.944500e+06</td>\n",
       "      <td>8.888750e+06</td>\n",
       "      <td>3.744000e+07</td>\n",
       "    </tr>\n",
       "    <tr>\n",
       "      <th>WWT Cooling Duty</th>\n",
       "      <td>5704.0</td>\n",
       "      <td>3.128264e+06</td>\n",
       "      <td>1.346168e+06</td>\n",
       "      <td>3.070000e+05</td>\n",
       "      <td>2.110000e+06</td>\n",
       "      <td>2.908000e+06</td>\n",
       "      <td>4.105500e+06</td>\n",
       "      <td>7.120000e+06</td>\n",
       "    </tr>\n",
       "    <tr>\n",
       "      <th>WWT Cooling Duty2</th>\n",
       "      <td>5704.0</td>\n",
       "      <td>4.359905e+06</td>\n",
       "      <td>1.451078e+06</td>\n",
       "      <td>6.506000e+05</td>\n",
       "      <td>3.291750e+06</td>\n",
       "      <td>4.200000e+06</td>\n",
       "      <td>5.474500e+06</td>\n",
       "      <td>8.200000e+06</td>\n",
       "    </tr>\n",
       "    <tr>\n",
       "      <th>MEA Emission PPM</th>\n",
       "      <td>5704.0</td>\n",
       "      <td>1.613702e-01</td>\n",
       "      <td>3.216315e-01</td>\n",
       "      <td>1.726000e-04</td>\n",
       "      <td>2.091750e-03</td>\n",
       "      <td>4.767000e-03</td>\n",
       "      <td>1.937250e-01</td>\n",
       "      <td>2.309000e+00</td>\n",
       "    </tr>\n",
       "    <tr>\n",
       "      <th>CO2 Mass Flow @ Off Gas</th>\n",
       "      <td>5704.0</td>\n",
       "      <td>2.207056e+03</td>\n",
       "      <td>1.994389e+03</td>\n",
       "      <td>1.221000e+01</td>\n",
       "      <td>4.480250e+02</td>\n",
       "      <td>1.627000e+03</td>\n",
       "      <td>3.586500e+03</td>\n",
       "      <td>8.572000e+03</td>\n",
       "    </tr>\n",
       "    <tr>\n",
       "      <th>MEA Emission</th>\n",
       "      <td>5704.0</td>\n",
       "      <td>1.613925e-07</td>\n",
       "      <td>3.217061e-07</td>\n",
       "      <td>1.726000e-10</td>\n",
       "      <td>2.091750e-09</td>\n",
       "      <td>4.767000e-09</td>\n",
       "      <td>1.937250e-07</td>\n",
       "      <td>2.310000e-06</td>\n",
       "    </tr>\n",
       "    <tr>\n",
       "      <th>FG Flue Rate (Sm3/h)</th>\n",
       "      <td>5704.0</td>\n",
       "      <td>5.789569e+04</td>\n",
       "      <td>1.036741e+03</td>\n",
       "      <td>5.638000e+04</td>\n",
       "      <td>5.709000e+04</td>\n",
       "      <td>5.770000e+04</td>\n",
       "      <td>5.864000e+04</td>\n",
       "      <td>5.941000e+04</td>\n",
       "    </tr>\n",
       "    <tr>\n",
       "      <th>L/G (kg/kg)</th>\n",
       "      <td>5704.0</td>\n",
       "      <td>1.875638e+00</td>\n",
       "      <td>1.142761e+00</td>\n",
       "      <td>5.772000e-01</td>\n",
       "      <td>1.127000e+00</td>\n",
       "      <td>1.401000e+00</td>\n",
       "      <td>2.313000e+00</td>\n",
       "      <td>4.163000e+00</td>\n",
       "    </tr>\n",
       "    <tr>\n",
       "      <th>L/G (kg/Sm3)</th>\n",
       "      <td>5704.0</td>\n",
       "      <td>2.352114e+00</td>\n",
       "      <td>1.458413e+00</td>\n",
       "      <td>7.002000e-01</td>\n",
       "      <td>1.367000e+00</td>\n",
       "      <td>1.735000e+00</td>\n",
       "      <td>2.956000e+00</td>\n",
       "      <td>5.321000e+00</td>\n",
       "    </tr>\n",
       "    <tr>\n",
       "      <th>Lean Loading</th>\n",
       "      <td>5704.0</td>\n",
       "      <td>2.049223e-01</td>\n",
       "      <td>7.820774e-02</td>\n",
       "      <td>7.095000e-02</td>\n",
       "      <td>1.396000e-01</td>\n",
       "      <td>1.968500e-01</td>\n",
       "      <td>2.657000e-01</td>\n",
       "      <td>3.924000e-01</td>\n",
       "    </tr>\n",
       "    <tr>\n",
       "      <th>Captured CO2 (kg/h)</th>\n",
       "      <td>5704.0</td>\n",
       "      <td>6.737296e+03</td>\n",
       "      <td>2.938513e+03</td>\n",
       "      <td>2.502000e+03</td>\n",
       "      <td>3.915000e+03</td>\n",
       "      <td>6.284000e+03</td>\n",
       "      <td>9.184500e+03</td>\n",
       "      <td>1.360000e+04</td>\n",
       "    </tr>\n",
       "    <tr>\n",
       "      <th>CO2 Capture Efficiency</th>\n",
       "      <td>5704.0</td>\n",
       "      <td>7.700561e+01</td>\n",
       "      <td>1.879548e+01</td>\n",
       "      <td>2.872000e+01</td>\n",
       "      <td>6.184000e+01</td>\n",
       "      <td>8.117500e+01</td>\n",
       "      <td>9.379000e+01</td>\n",
       "      <td>9.969000e+01</td>\n",
       "    </tr>\n",
       "    <tr>\n",
       "      <th>Rich Loading</th>\n",
       "      <td>5704.0</td>\n",
       "      <td>4.699677e-01</td>\n",
       "      <td>3.968865e-02</td>\n",
       "      <td>3.232000e-01</td>\n",
       "      <td>4.607750e-01</td>\n",
       "      <td>4.883000e-01</td>\n",
       "      <td>4.948000e-01</td>\n",
       "      <td>5.089000e-01</td>\n",
       "    </tr>\n",
       "    <tr>\n",
       "      <th>RA Flow Rate</th>\n",
       "      <td>5704.0</td>\n",
       "      <td>1.404476e+05</td>\n",
       "      <td>8.445365e+04</td>\n",
       "      <td>4.316000e+04</td>\n",
       "      <td>8.312750e+04</td>\n",
       "      <td>1.053000e+05</td>\n",
       "      <td>1.763000e+05</td>\n",
       "      <td>3.131000e+05</td>\n",
       "    </tr>\n",
       "    <tr>\n",
       "      <th>RA Temp after Abs</th>\n",
       "      <td>5704.0</td>\n",
       "      <td>3.836125e+01</td>\n",
       "      <td>7.370878e+00</td>\n",
       "      <td>2.088000e+01</td>\n",
       "      <td>3.349000e+01</td>\n",
       "      <td>3.686500e+01</td>\n",
       "      <td>4.346250e+01</td>\n",
       "      <td>5.498000e+01</td>\n",
       "    </tr>\n",
       "    <tr>\n",
       "      <th>Reboiler Duty</th>\n",
       "      <td>5704.0</td>\n",
       "      <td>3.078945e+07</td>\n",
       "      <td>1.236984e+07</td>\n",
       "      <td>1.000000e+07</td>\n",
       "      <td>2.000000e+07</td>\n",
       "      <td>3.000000e+07</td>\n",
       "      <td>4.400000e+07</td>\n",
       "      <td>5.200000e+07</td>\n",
       "    </tr>\n",
       "    <tr>\n",
       "      <th>Condensor Duty (kJ/h)</th>\n",
       "      <td>5704.0</td>\n",
       "      <td>1.284328e+07</td>\n",
       "      <td>6.109412e+06</td>\n",
       "      <td>2.917000e+06</td>\n",
       "      <td>8.131000e+06</td>\n",
       "      <td>1.209000e+07</td>\n",
       "      <td>1.634000e+07</td>\n",
       "      <td>3.359000e+07</td>\n",
       "    </tr>\n",
       "    <tr>\n",
       "      <th>SRD (MJ/kg CO2)</th>\n",
       "      <td>5704.0</td>\n",
       "      <td>4.765017e+00</td>\n",
       "      <td>1.247572e+00</td>\n",
       "      <td>2.941000e+00</td>\n",
       "      <td>3.822000e+00</td>\n",
       "      <td>4.385000e+00</td>\n",
       "      <td>5.422000e+00</td>\n",
       "      <td>8.376000e+00</td>\n",
       "    </tr>\n",
       "    <tr>\n",
       "      <th>Condensor Specific Duty</th>\n",
       "      <td>5704.0</td>\n",
       "      <td>2.081913e+00</td>\n",
       "      <td>1.090142e+00</td>\n",
       "      <td>1.120000e+00</td>\n",
       "      <td>1.277000e+00</td>\n",
       "      <td>1.612000e+00</td>\n",
       "      <td>2.494000e+00</td>\n",
       "      <td>5.885000e+00</td>\n",
       "    </tr>\n",
       "    <tr>\n",
       "      <th>CO2 Product purity</th>\n",
       "      <td>5704.0</td>\n",
       "      <td>9.856748e-01</td>\n",
       "      <td>5.815067e-04</td>\n",
       "      <td>9.828000e-01</td>\n",
       "      <td>9.854000e-01</td>\n",
       "      <td>9.858000e-01</td>\n",
       "      <td>9.861000e-01</td>\n",
       "      <td>9.864000e-01</td>\n",
       "    </tr>\n",
       "    <tr>\n",
       "      <th>CO2 Production Mass Flow</th>\n",
       "      <td>5704.0</td>\n",
       "      <td>6.781539e+03</td>\n",
       "      <td>2.959779e+03</td>\n",
       "      <td>2.515000e+03</td>\n",
       "      <td>3.943000e+03</td>\n",
       "      <td>6.320000e+03</td>\n",
       "      <td>9.249500e+03</td>\n",
       "      <td>1.370000e+04</td>\n",
       "    </tr>\n",
       "    <tr>\n",
       "      <th>Reg Bttm Temp</th>\n",
       "      <td>5704.0</td>\n",
       "      <td>1.205428e+02</td>\n",
       "      <td>2.568666e+00</td>\n",
       "      <td>1.108000e+02</td>\n",
       "      <td>1.192000e+02</td>\n",
       "      <td>1.214000e+02</td>\n",
       "      <td>1.226000e+02</td>\n",
       "      <td>1.234000e+02</td>\n",
       "    </tr>\n",
       "    <tr>\n",
       "      <th>Reg Bttm Flow Rate</th>\n",
       "      <td>5704.0</td>\n",
       "      <td>1.336667e+05</td>\n",
       "      <td>8.205559e+04</td>\n",
       "      <td>4.020000e+04</td>\n",
       "      <td>7.872000e+04</td>\n",
       "      <td>9.907000e+04</td>\n",
       "      <td>1.660000e+05</td>\n",
       "      <td>3.000000e+05</td>\n",
       "    </tr>\n",
       "    <tr>\n",
       "      <th>LA after HE</th>\n",
       "      <td>5704.0</td>\n",
       "      <td>5.040206e+01</td>\n",
       "      <td>9.103813e+00</td>\n",
       "      <td>2.997000e+01</td>\n",
       "      <td>4.365000e+01</td>\n",
       "      <td>4.986000e+01</td>\n",
       "      <td>5.678000e+01</td>\n",
       "      <td>7.299000e+01</td>\n",
       "    </tr>\n",
       "    <tr>\n",
       "      <th>Left Min Apprch</th>\n",
       "      <td>5704.0</td>\n",
       "      <td>1.204087e+01</td>\n",
       "      <td>5.714874e+00</td>\n",
       "      <td>4.490000e-02</td>\n",
       "      <td>7.618750e+00</td>\n",
       "      <td>1.196000e+01</td>\n",
       "      <td>1.647250e+01</td>\n",
       "      <td>2.452000e+01</td>\n",
       "    </tr>\n",
       "    <tr>\n",
       "      <th>Right Min Appr</th>\n",
       "      <td>5704.0</td>\n",
       "      <td>1.623721e+01</td>\n",
       "      <td>2.661992e+00</td>\n",
       "      <td>7.289000e+00</td>\n",
       "      <td>1.459000e+01</td>\n",
       "      <td>1.674000e+01</td>\n",
       "      <td>1.830000e+01</td>\n",
       "      <td>2.035000e+01</td>\n",
       "    </tr>\n",
       "    <tr>\n",
       "      <th>LMTD</th>\n",
       "      <td>5704.0</td>\n",
       "      <td>1.382633e+01</td>\n",
       "      <td>4.264904e+00</td>\n",
       "      <td>1.663000e+00</td>\n",
       "      <td>1.092000e+01</td>\n",
       "      <td>1.423000e+01</td>\n",
       "      <td>1.725000e+01</td>\n",
       "      <td>2.218000e+01</td>\n",
       "    </tr>\n",
       "    <tr>\n",
       "      <th>MEA Makeup</th>\n",
       "      <td>5704.0</td>\n",
       "      <td>1.354874e+00</td>\n",
       "      <td>3.618611e+00</td>\n",
       "      <td>0.000000e+00</td>\n",
       "      <td>0.000000e+00</td>\n",
       "      <td>0.000000e+00</td>\n",
       "      <td>0.000000e+00</td>\n",
       "      <td>3.325000e+01</td>\n",
       "    </tr>\n",
       "    <tr>\n",
       "      <th>Abs Height</th>\n",
       "      <td>5704.0</td>\n",
       "      <td>1.749404e+01</td>\n",
       "      <td>4.864350e+00</td>\n",
       "      <td>1.200000e+01</td>\n",
       "      <td>1.200000e+01</td>\n",
       "      <td>1.800000e+01</td>\n",
       "      <td>2.400000e+01</td>\n",
       "      <td>2.400000e+01</td>\n",
       "    </tr>\n",
       "    <tr>\n",
       "      <th>SLAD (MJ/kg)</th>\n",
       "      <td>5704.0</td>\n",
       "      <td>8.970348e-01</td>\n",
       "      <td>7.206116e-01</td>\n",
       "      <td>2.281942e-04</td>\n",
       "      <td>3.518960e-01</td>\n",
       "      <td>7.169321e-01</td>\n",
       "      <td>1.256964e+00</td>\n",
       "      <td>3.725383e+00</td>\n",
       "    </tr>\n",
       "  </tbody>\n",
       "</table>\n",
       "</div>"
      ],
      "text/plain": [
       "                              count          mean           std           min  \\\n",
       "FG Massflow (kg/h)           5704.0  7.207411e+04  1.031939e+01  7.207000e+04   \n",
       "Flue gas CO2 cons            5704.0  8.359599e-02  3.298276e-02  3.600000e-02   \n",
       "FG Temperature               5704.0  3.695126e+01  1.178362e+01  2.000000e+01   \n",
       "Lean Amine Mass flow (kg/h)  5704.0  1.351625e+05  8.233373e+04  4.160000e+04   \n",
       "Lean Amine Temperature       5704.0  3.728787e+01  7.417124e+00  3.000000e+01   \n",
       "WWT Flow rate                5704.0  5.500000e+04  0.000000e+00  5.500000e+04   \n",
       "WWB Flow rate                5704.0  5.500863e+04  3.439796e+00  5.500000e+04   \n",
       "RA2Reg-Temperature           5704.0  1.043051e+02  1.206691e+00  1.030000e+02   \n",
       "Reboiler Duty (kJ/h)         5704.0  3.078945e+07  1.236984e+07  1.000000e+07   \n",
       "LA Chilling Duty             5704.0  6.601097e+06  6.968066e+06  1.936000e+03   \n",
       "WWT Cooling Duty             5704.0  3.128264e+06  1.346168e+06  3.070000e+05   \n",
       "WWT Cooling Duty2            5704.0  4.359905e+06  1.451078e+06  6.506000e+05   \n",
       "MEA Emission PPM             5704.0  1.613702e-01  3.216315e-01  1.726000e-04   \n",
       "CO2 Mass Flow @ Off Gas      5704.0  2.207056e+03  1.994389e+03  1.221000e+01   \n",
       "MEA Emission                 5704.0  1.613925e-07  3.217061e-07  1.726000e-10   \n",
       "FG Flue Rate (Sm3/h)         5704.0  5.789569e+04  1.036741e+03  5.638000e+04   \n",
       "L/G (kg/kg)                  5704.0  1.875638e+00  1.142761e+00  5.772000e-01   \n",
       "L/G (kg/Sm3)                 5704.0  2.352114e+00  1.458413e+00  7.002000e-01   \n",
       "Lean Loading                 5704.0  2.049223e-01  7.820774e-02  7.095000e-02   \n",
       "Captured CO2 (kg/h)          5704.0  6.737296e+03  2.938513e+03  2.502000e+03   \n",
       "CO2 Capture Efficiency       5704.0  7.700561e+01  1.879548e+01  2.872000e+01   \n",
       "Rich Loading                 5704.0  4.699677e-01  3.968865e-02  3.232000e-01   \n",
       "RA Flow Rate                 5704.0  1.404476e+05  8.445365e+04  4.316000e+04   \n",
       "RA Temp after Abs            5704.0  3.836125e+01  7.370878e+00  2.088000e+01   \n",
       "Reboiler Duty                5704.0  3.078945e+07  1.236984e+07  1.000000e+07   \n",
       "Condensor Duty (kJ/h)        5704.0  1.284328e+07  6.109412e+06  2.917000e+06   \n",
       "SRD (MJ/kg CO2)              5704.0  4.765017e+00  1.247572e+00  2.941000e+00   \n",
       "Condensor Specific Duty      5704.0  2.081913e+00  1.090142e+00  1.120000e+00   \n",
       "CO2 Product purity           5704.0  9.856748e-01  5.815067e-04  9.828000e-01   \n",
       "CO2 Production Mass Flow     5704.0  6.781539e+03  2.959779e+03  2.515000e+03   \n",
       "Reg Bttm Temp                5704.0  1.205428e+02  2.568666e+00  1.108000e+02   \n",
       "Reg Bttm Flow Rate           5704.0  1.336667e+05  8.205559e+04  4.020000e+04   \n",
       "LA after HE                  5704.0  5.040206e+01  9.103813e+00  2.997000e+01   \n",
       "Left Min Apprch              5704.0  1.204087e+01  5.714874e+00  4.490000e-02   \n",
       "Right Min Appr               5704.0  1.623721e+01  2.661992e+00  7.289000e+00   \n",
       "LMTD                         5704.0  1.382633e+01  4.264904e+00  1.663000e+00   \n",
       "MEA Makeup                   5704.0  1.354874e+00  3.618611e+00  0.000000e+00   \n",
       "Abs Height                   5704.0  1.749404e+01  4.864350e+00  1.200000e+01   \n",
       "SLAD (MJ/kg)                 5704.0  8.970348e-01  7.206116e-01  2.281942e-04   \n",
       "\n",
       "                                      25%           50%           75%  \\\n",
       "FG Massflow (kg/h)           7.207000e+04  7.207000e+04  7.207000e+04   \n",
       "Flue gas CO2 cons            5.950000e-02  9.050000e-02  1.088000e-01   \n",
       "FG Temperature               2.000000e+01  3.500000e+01  5.000000e+01   \n",
       "Lean Amine Mass flow (kg/h)  8.120000e+04  1.010000e+05  1.670000e+05   \n",
       "Lean Amine Temperature       3.000000e+01  4.000000e+01  4.000000e+01   \n",
       "WWT Flow rate                5.500000e+04  5.500000e+04  5.500000e+04   \n",
       "WWB Flow rate                5.501000e+04  5.501000e+04  5.501000e+04   \n",
       "RA2Reg-Temperature           1.030000e+02  1.045000e+02  1.060000e+02   \n",
       "Reboiler Duty (kJ/h)         2.000000e+07  3.000000e+07  4.400000e+07   \n",
       "LA Chilling Duty             1.786000e+06  3.944500e+06  8.888750e+06   \n",
       "WWT Cooling Duty             2.110000e+06  2.908000e+06  4.105500e+06   \n",
       "WWT Cooling Duty2            3.291750e+06  4.200000e+06  5.474500e+06   \n",
       "MEA Emission PPM             2.091750e-03  4.767000e-03  1.937250e-01   \n",
       "CO2 Mass Flow @ Off Gas      4.480250e+02  1.627000e+03  3.586500e+03   \n",
       "MEA Emission                 2.091750e-09  4.767000e-09  1.937250e-07   \n",
       "FG Flue Rate (Sm3/h)         5.709000e+04  5.770000e+04  5.864000e+04   \n",
       "L/G (kg/kg)                  1.127000e+00  1.401000e+00  2.313000e+00   \n",
       "L/G (kg/Sm3)                 1.367000e+00  1.735000e+00  2.956000e+00   \n",
       "Lean Loading                 1.396000e-01  1.968500e-01  2.657000e-01   \n",
       "Captured CO2 (kg/h)          3.915000e+03  6.284000e+03  9.184500e+03   \n",
       "CO2 Capture Efficiency       6.184000e+01  8.117500e+01  9.379000e+01   \n",
       "Rich Loading                 4.607750e-01  4.883000e-01  4.948000e-01   \n",
       "RA Flow Rate                 8.312750e+04  1.053000e+05  1.763000e+05   \n",
       "RA Temp after Abs            3.349000e+01  3.686500e+01  4.346250e+01   \n",
       "Reboiler Duty                2.000000e+07  3.000000e+07  4.400000e+07   \n",
       "Condensor Duty (kJ/h)        8.131000e+06  1.209000e+07  1.634000e+07   \n",
       "SRD (MJ/kg CO2)              3.822000e+00  4.385000e+00  5.422000e+00   \n",
       "Condensor Specific Duty      1.277000e+00  1.612000e+00  2.494000e+00   \n",
       "CO2 Product purity           9.854000e-01  9.858000e-01  9.861000e-01   \n",
       "CO2 Production Mass Flow     3.943000e+03  6.320000e+03  9.249500e+03   \n",
       "Reg Bttm Temp                1.192000e+02  1.214000e+02  1.226000e+02   \n",
       "Reg Bttm Flow Rate           7.872000e+04  9.907000e+04  1.660000e+05   \n",
       "LA after HE                  4.365000e+01  4.986000e+01  5.678000e+01   \n",
       "Left Min Apprch              7.618750e+00  1.196000e+01  1.647250e+01   \n",
       "Right Min Appr               1.459000e+01  1.674000e+01  1.830000e+01   \n",
       "LMTD                         1.092000e+01  1.423000e+01  1.725000e+01   \n",
       "MEA Makeup                   0.000000e+00  0.000000e+00  0.000000e+00   \n",
       "Abs Height                   1.200000e+01  1.800000e+01  2.400000e+01   \n",
       "SLAD (MJ/kg)                 3.518960e-01  7.169321e-01  1.256964e+00   \n",
       "\n",
       "                                      max  \n",
       "FG Massflow (kg/h)           7.210000e+04  \n",
       "Flue gas CO2 cons            1.324000e-01  \n",
       "FG Temperature               5.000000e+01  \n",
       "Lean Amine Mass flow (kg/h)  3.000000e+05  \n",
       "Lean Amine Temperature       5.000000e+01  \n",
       "WWT Flow rate                5.500000e+04  \n",
       "WWB Flow rate                5.501000e+04  \n",
       "RA2Reg-Temperature           1.060000e+02  \n",
       "Reboiler Duty (kJ/h)         5.200000e+07  \n",
       "LA Chilling Duty             3.744000e+07  \n",
       "WWT Cooling Duty             7.120000e+06  \n",
       "WWT Cooling Duty2            8.200000e+06  \n",
       "MEA Emission PPM             2.309000e+00  \n",
       "CO2 Mass Flow @ Off Gas      8.572000e+03  \n",
       "MEA Emission                 2.310000e-06  \n",
       "FG Flue Rate (Sm3/h)         5.941000e+04  \n",
       "L/G (kg/kg)                  4.163000e+00  \n",
       "L/G (kg/Sm3)                 5.321000e+00  \n",
       "Lean Loading                 3.924000e-01  \n",
       "Captured CO2 (kg/h)          1.360000e+04  \n",
       "CO2 Capture Efficiency       9.969000e+01  \n",
       "Rich Loading                 5.089000e-01  \n",
       "RA Flow Rate                 3.131000e+05  \n",
       "RA Temp after Abs            5.498000e+01  \n",
       "Reboiler Duty                5.200000e+07  \n",
       "Condensor Duty (kJ/h)        3.359000e+07  \n",
       "SRD (MJ/kg CO2)              8.376000e+00  \n",
       "Condensor Specific Duty      5.885000e+00  \n",
       "CO2 Product purity           9.864000e-01  \n",
       "CO2 Production Mass Flow     1.370000e+04  \n",
       "Reg Bttm Temp                1.234000e+02  \n",
       "Reg Bttm Flow Rate           3.000000e+05  \n",
       "LA after HE                  7.299000e+01  \n",
       "Left Min Apprch              2.452000e+01  \n",
       "Right Min Appr               2.035000e+01  \n",
       "LMTD                         2.218000e+01  \n",
       "MEA Makeup                   3.325000e+01  \n",
       "Abs Height                   2.400000e+01  \n",
       "SLAD (MJ/kg)                 3.725383e+00  "
      ]
     },
     "execution_count": 7,
     "metadata": {},
     "output_type": "execute_result"
    }
   ],
   "source": [
    "df.describe().transpose()"
   ]
  },
  {
   "cell_type": "code",
   "execution_count": 8,
   "id": "d2abee3d",
   "metadata": {},
   "outputs": [
    {
     "data": {
      "text/plain": [
       "Flue gas CO2 cons\n",
       "0.0360    5.918239\n",
       "0.0595    4.781794\n",
       "0.0838    4.705801\n",
       "0.0905    4.611641\n",
       "0.1088    4.251134\n",
       "0.1324    4.023896\n",
       "Name: SRD (MJ/kg CO2), dtype: float64"
      ]
     },
     "execution_count": 8,
     "metadata": {},
     "output_type": "execute_result"
    }
   ],
   "source": [
    "# An initial assessment about how SRD is effected by Flue gas CO2 cons\n",
    "df.groupby([\"Flue gas CO2 cons\"]).mean()[\"SRD (MJ/kg CO2)\"]"
   ]
  },
  {
   "cell_type": "code",
   "execution_count": 9,
   "id": "3219b6cd",
   "metadata": {},
   "outputs": [
    {
     "data": {
      "text/plain": [
       "L/G (kg/kg)\n",
       "0.5772    5.989826\n",
       "0.8519    5.181022\n",
       "1.1270    4.957204\n",
       "1.3880    4.934932\n",
       "1.4010    4.861929\n",
       "2.3130    4.145416\n",
       "3.2380    4.077921\n",
       "4.1630    4.058419\n",
       "Name: SRD (MJ/kg CO2), dtype: float64"
      ]
     },
     "execution_count": 9,
     "metadata": {},
     "output_type": "execute_result"
    }
   ],
   "source": [
    "# An initial assessment about how SRD is effected by L/G\n",
    "df.groupby(['L/G (kg/kg)']).mean()[\"SRD (MJ/kg CO2)\"]"
   ]
  },
  {
   "cell_type": "code",
   "execution_count": 10,
   "id": "ddb2b721",
   "metadata": {},
   "outputs": [
    {
     "data": {
      "text/plain": [
       "Flue gas CO2 cons  Abs Height\n",
       "0.0360             12            6.007116\n",
       "                   18            5.863601\n",
       "                   24            5.872174\n",
       "0.0595             12            4.809409\n",
       "                   18            4.770784\n",
       "                   24            4.760532\n",
       "0.0838             12            4.691938\n",
       "                   18            4.702836\n",
       "                   24            4.725310\n",
       "0.0905             12            4.706252\n",
       "                   18            4.546398\n",
       "                   24            4.547103\n",
       "0.1088             12            4.368716\n",
       "                   18            4.198486\n",
       "                   24            4.166482\n",
       "0.1324             12            4.121771\n",
       "                   18            3.989288\n",
       "                   24            3.934756\n",
       "Name: SRD (MJ/kg CO2), dtype: float64"
      ]
     },
     "execution_count": 10,
     "metadata": {},
     "output_type": "execute_result"
    }
   ],
   "source": [
    "# An initial assessment about how SRD is effected by Flue gas CO2 cons and Abs Height\n",
    "df.groupby([\"Flue gas CO2 cons\", \"Abs Height\"]).mean()[\"SRD (MJ/kg CO2)\"]"
   ]
  },
  {
   "cell_type": "code",
   "execution_count": 11,
   "id": "8a83bcc9",
   "metadata": {},
   "outputs": [
    {
     "data": {
      "text/plain": [
       "L/G (kg/kg)  Abs Height\n",
       "0.5772       12            6.056396\n",
       "             18            5.959155\n",
       "             24            5.949458\n",
       "0.8519       12            5.248815\n",
       "             18            5.149104\n",
       "             24            5.135199\n",
       "1.1270       12            4.997382\n",
       "             18            4.935604\n",
       "             24            4.931164\n",
       "1.3880       12            5.050829\n",
       "             18            4.876832\n",
       "             24            4.848038\n",
       "1.4010       12            4.901602\n",
       "             18            4.827603\n",
       "             24            4.849940\n",
       "2.3130       12            4.269415\n",
       "             18            4.094960\n",
       "             24            4.031709\n",
       "3.2380       12            4.200606\n",
       "             18            4.036273\n",
       "             24            3.954699\n",
       "4.1630       12            4.138173\n",
       "             18            4.085486\n",
       "             24            3.904413\n",
       "Name: SRD (MJ/kg CO2), dtype: float64"
      ]
     },
     "execution_count": 11,
     "metadata": {},
     "output_type": "execute_result"
    }
   ],
   "source": [
    "# An initial assessment about how SRD is effected by L/G (kg/kg) and Abs Height\n",
    "df.groupby([ 'L/G (kg/kg)', \"Abs Height\"]).mean()[\"SRD (MJ/kg CO2)\"]"
   ]
  },
  {
   "cell_type": "markdown",
   "id": "105a669f",
   "metadata": {},
   "source": [
    "### Visualization"
   ]
  },
  {
   "cell_type": "code",
   "execution_count": 12,
   "id": "24498015",
   "metadata": {},
   "outputs": [
    {
     "data": {
      "image/png": "[encoded data removed]",
      "text/plain": [
       "<Figure size 478.8x360 with 1 Axes>"
      ]
     },
     "metadata": {
      "needs_background": "light"
     },
     "output_type": "display_data"
    }
   ],
   "source": [
    "viz = sns.displot(df[\"CO2 Capture Efficiency\"], bins=15, kde=True, height=5, aspect=1.33)\n",
    "viz.ax.set_xlabel(xlabel= 'Carbon Capture Efficiency',fontname=\"Times New Roman\", fontsize=13)\n",
    "viz.ax.set_ylabel(ylabel= 'Count',fontname=\"Times New Roman\", fontsize=13)\n",
    "viz.savefig(\"Figures\\\\Capture Efficiency Distribution.png\", dpi=600)"
   ]
  },
  {
   "cell_type": "code",
   "execution_count": null,
   "id": "0de9004b",
   "metadata": {},
   "outputs": [],
   "source": [
    "viz = sns.displot(df[\"SRD (MJ/kg CO2)\"], bins=15, kde=True, height=5, aspect=1.33, color='green')\n",
    "viz.ax.set_xlabel(xlabel= 'Specific Reboiler Duty (MJ/kg CO2)',fontname=\"Times New Roman\", fontsize=13)\n",
    "viz.ax.set_ylabel(ylabel= 'Count',fontname=\"Times New Roman\", fontsize=13)\n",
    "viz.savefig(\"Figures\\\\Reboiler Duty Distribution.png\", dpi=600)"
   ]
  },
  {
   "cell_type": "code",
   "execution_count": null,
   "id": "b7a182e4",
   "metadata": {},
   "outputs": [],
   "source": [
    "viz = sns.displot(df[\"Lean Loading\"], bins=15, kde=True, height=5, aspect=1.33)\n",
    "viz.ax.set_xlabel(xlabel= 'Lean Loading',fontname=\"Times New Roman\", fontsize=13)\n",
    "viz.ax.set_ylabel(ylabel= 'Count',fontname=\"Times New Roman\", fontsize=13)\n",
    "viz.savefig(\"Figures\\\\Lean Loading Distribution.png\", dpi=600)"
   ]
  },
  {
   "cell_type": "code",
   "execution_count": null,
   "id": "6296c2b6",
   "metadata": {},
   "outputs": [],
   "source": [
    "viz = sns.displot(df[\"Rich Loading\"], bins=15, kde=True, height=5, aspect=1.33)\n",
    "viz.ax.set_xlabel(xlabel= 'Rich Loading',fontname=\"Times New Roman\", fontsize=13)\n",
    "viz.ax.set_ylabel(ylabel= 'Count',fontname=\"Times New Roman\", fontsize=13)\n",
    "viz.savefig(\"Figures\\\\Rich Loading Distribution.png\", dpi=600)"
   ]
  },
  {
   "cell_type": "code",
   "execution_count": null,
   "id": "ed11bafd",
   "metadata": {},
   "outputs": [],
   "source": [
    "viz = sns.displot(df[\"Condensor Specific Duty\"], bins=15, kde=True, height=5, aspect=1.33, color='green')\n",
    "viz.ax.set_xlabel(xlabel= 'Specific Condenser Duty (MJ/kg CO2)',fontname=\"Times New Roman\", fontsize=13)\n",
    "viz.ax.set_ylabel(ylabel= 'Count',fontname=\"Times New Roman\", fontsize=13)\n",
    "viz.savefig(\"Figures\\\\Condenser Duty Distribution.png\", dpi=600)"
   ]
  },
  {
   "cell_type": "code",
   "execution_count": null,
   "id": "84c8782b",
   "metadata": {},
   "outputs": [],
   "source": [
    "viz = sns.displot(df[\"SLAD (MJ/kg)\"], bins=15, kde=True, height=5, aspect=1.33, color='green')\n",
    "viz.ax.set_xlabel(xlabel= 'Specific Lean Amine Cooling Duty (MJ/kg CO2)',fontname=\"Times New Roman\", fontsize=13)\n",
    "viz.ax.set_ylabel(ylabel= 'Count',fontname=\"Times New Roman\", fontsize=13)\n",
    "viz.savefig(\"Figures\\\\Lean Amine Cooling Duty Distribution.png\", dpi=600)"
   ]
  },
  {
   "cell_type": "code",
   "execution_count": null,
   "id": "c19a9a1f",
   "metadata": {},
   "outputs": [],
   "source": [
    "viz = sns.displot(df[\"CO2 Product purity\"], bins=15, kde=True, height=5, aspect=1.33)\n",
    "viz.ax.set_xlabel(xlabel= 'Product CO2 Purity (mol/mol)',fontname=\"Times New Roman\", fontsize=13)\n",
    "viz.ax.set_ylabel(ylabel= 'Count',fontname=\"Times New Roman\", fontsize=13)\n",
    "viz.savefig(\"Figures\\\\Product CO2 Purity Distribution.png\", dpi=600)"
   ]
  },
  {
   "cell_type": "code",
   "execution_count": null,
   "id": "1066bb14",
   "metadata": {},
   "outputs": [],
   "source": [
    "viz = sns.displot(df[\"LMTD\"], bins=15, kde=True, height=5, aspect=1.33)\n",
    "viz.ax.set_xlabel(xlabel= 'LMTD',fontname=\"Times New Roman\", fontsize=13)\n",
    "viz.ax.set_ylabel(ylabel= 'Count',fontname=\"Times New Roman\", fontsize=13)\n",
    "viz.savefig(\"Figures\\\\LMTD Distribution.png\", dpi=600)"
   ]
  },
  {
   "cell_type": "code",
   "execution_count": null,
   "id": "dce86634",
   "metadata": {},
   "outputs": [],
   "source": [
    "sns.jointplot(data= df[ (df[\"CO2 Capture Efficiency\"] >= 85) & (df[\"CO2 Capture Efficiency\"] <= 90)] , \n",
    "              x= \"LMTD\", \n",
    "              y=\"SRD (MJ/kg CO2)\",\n",
    "              hue=\"Flue gas CO2 cons\",\n",
    "              cmap=\"Blues\"\n",
    "             )"
   ]
  },
  {
   "cell_type": "markdown",
   "id": "0e01dca1",
   "metadata": {},
   "source": [
    "# Machine Learning"
   ]
  },
  {
   "cell_type": "markdown",
   "id": "0eef1bef",
   "metadata": {},
   "source": [
    "#### Import common Machine Learning Packages"
   ]
  },
  {
   "cell_type": "code",
   "execution_count": 13,
   "id": "161f4cfe",
   "metadata": {},
   "outputs": [],
   "source": [
    "from sklearn.model_selection import train_test_split\n",
    "from sklearn.multioutput import MultiOutputRegressor\n",
    "from sklearn.preprocessing import StandardScaler\n",
    "from sklearn.pipeline import Pipeline\n",
    "from sklearn.metrics import mean_absolute_error, mean_squared_error, mean_absolute_percentage_error, r2_score\n",
    "from joblib import dump, load"
   ]
  },
  {
   "cell_type": "markdown",
   "id": "1e092fe6",
   "metadata": {},
   "source": [
    "Random Sample of DATA"
   ]
  },
  {
   "cell_type": "code",
   "execution_count": 14,
   "id": "9a89f4a1",
   "metadata": {},
   "outputs": [],
   "source": [
    "Data = df[[\"FG Temperature\", \"Lean Loading\",'Lean Amine Temperature','L/G (kg/kg)','Flue gas CO2 cons','CO2 Capture Efficiency','LMTD','Abs Height',\"SRD (MJ/kg CO2)\", \"Condensor Specific Duty\", \"SLAD (MJ/kg)\" ]]"
   ]
  },
  {
   "cell_type": "code",
   "execution_count": 24,
   "id": "c58b7b9f",
   "metadata": {},
   "outputs": [],
   "source": [
    "np.random.seed(211)\n",
    "randomdata = Data.sample(10)\n",
    "randomdata.to_excel('Tables\\\\Random Selection.xlsx', index=False )"
   ]
  },
  {
   "cell_type": "code",
   "execution_count": null,
   "id": "2b7b0016",
   "metadata": {},
   "outputs": [],
   "source": []
  },
  {
   "cell_type": "code",
   "execution_count": null,
   "id": "6099f11a",
   "metadata": {},
   "outputs": [],
   "source": []
  },
  {
   "cell_type": "markdown",
   "id": "774acc5a",
   "metadata": {},
   "source": [
    "#### Define the inputs & outputs (Features and Targets)"
   ]
  },
  {
   "cell_type": "code",
   "execution_count": null,
   "id": "105e0750",
   "metadata": {},
   "outputs": [],
   "source": [
    "# XA Represents the data for Advanced Design\n",
    "XA = df[[\"FG Temperature\", \"Lean Loading\",'Lean Amine Temperature','L/G (kg/kg)','Flue gas CO2 cons','CO2 Capture Efficiency','LMTD','Abs Height']]"
   ]
  },
  {
   "cell_type": "code",
   "execution_count": null,
   "id": "81b743cd",
   "metadata": {},
   "outputs": [],
   "source": [
    "# XN Represents the data for Normal Design\n",
    "XN = df[[\"FG Temperature\", \"Lean Loading\",'Lean Amine Temperature','L/G (kg/kg)','Flue gas CO2 cons','CO2 Capture Efficiency']]"
   ]
  },
  {
   "cell_type": "code",
   "execution_count": null,
   "id": "bf3e35ce",
   "metadata": {},
   "outputs": [],
   "source": [
    "y = df[[\"SRD (MJ/kg CO2)\", \"Condensor Specific Duty\", \"SLAD (MJ/kg)\"]]"
   ]
  },
  {
   "cell_type": "code",
   "execution_count": null,
   "id": "c02607e1",
   "metadata": {},
   "outputs": [],
   "source": [
    "# 70% & 30% train / test split\n",
    "XA_train, XA_test, y_train, y_test = train_test_split(XA, y, test_size=0.30, random_state=211)\n",
    "XN_train, XN_test, y_train, y_test = train_test_split(XN, y, test_size=0.30, random_state=211)"
   ]
  },
  {
   "cell_type": "markdown",
   "id": "7221b1ca",
   "metadata": {},
   "source": [
    "#### Define the dataframe function for performance evaluation"
   ]
  },
  {
   "cell_type": "code",
   "execution_count": null,
   "id": "e2ff6aff",
   "metadata": {},
   "outputs": [],
   "source": [
    "# Here the dataframes that are supposed to store the ML model performance metrics are initiated\n",
    "\n",
    "performance_SRD = pd.DataFrame(columns=[\"name\",\"R^2_A\", \"MAE_A\", \"MAPE_A\", \"RMSE_A\", \"R^2_N\", \"MAE_N\", \"MAPE_N\", \"RMSE_N\"])\n",
    "performance_ConSD = pd.DataFrame(columns=[\"name\",\"R^2_A\", \"MAE_A\", \"MAPE_A\", \"RMSE_A\", \"R^2_N\", \"MAE_N\", \"MAPE_N\", \"RMSE_N\"])\n",
    "performance_SLAD = pd.DataFrame(columns=[\"name\",\"R^2_A\", \"MAE_A\", \"MAPE_A\", \"RMSE_A\", \"R^2_N\", \"MAE_N\", \"MAPE_N\", \"RMSE_N\"])"
   ]
  },
  {
   "cell_type": "code",
   "execution_count": null,
   "id": "9183becc",
   "metadata": {},
   "outputs": [],
   "source": [
    "# The next 3 Cells take the ML model and calculate its performance metrics (one for each of the target values)"
   ]
  },
  {
   "cell_type": "code",
   "execution_count": null,
   "id": "3504edaa",
   "metadata": {},
   "outputs": [],
   "source": [
    "def evaldf_SRD(A_pred, N_pred, model_name):\n",
    "    \n",
    "    row = pd.DataFrame(\n",
    "                        {\n",
    "                         \"name\": str(str(model_name) + '_SRD'),\n",
    "                         \"R^2_A\": r2_score(y_test[\"SRD (MJ/kg CO2)\"], A_pred[: , 0]),\n",
    "                         \"MAE_A\": mean_absolute_error(y_test[\"SRD (MJ/kg CO2)\"], A_pred[: , 0]),\n",
    "                         \"MAPE_A\": mean_absolute_percentage_error(y_test[\"SRD (MJ/kg CO2)\"], A_pred[: , 0]),\n",
    "                         \"RMSE_A\": np.sqrt(mean_squared_error(y_test[\"SRD (MJ/kg CO2)\"], A_pred[: , 0])),\n",
    "                         \"R^2_N\": r2_score(y_test[\"SRD (MJ/kg CO2)\"], N_pred[: , 0]),\n",
    "                         \"MAE_N\": mean_absolute_error(y_test[\"SRD (MJ/kg CO2)\"], N_pred[: , 0]),\n",
    "                         \"MAPE_N\": mean_absolute_percentage_error(y_test[\"SRD (MJ/kg CO2)\"], N_pred[: , 0]),\n",
    "                         \"RMSE_N\": np.sqrt(mean_squared_error(y_test[\"SRD (MJ/kg CO2)\"], N_pred[: , 0]))\n",
    "                        }\n",
    "            , index=[0])\n",
    "    \n",
    "    global performance_SRD\n",
    "    \n",
    "    performance_SRD = pd.concat([performance_SRD, row], ignore_index=True)    "
   ]
  },
  {
   "cell_type": "code",
   "execution_count": null,
   "id": "5b1975b3",
   "metadata": {},
   "outputs": [],
   "source": [
    "def evaldf_ConSD(A_pred, N_pred, model_name):\n",
    "    \n",
    "    row = pd.DataFrame(\n",
    "                        {\n",
    "                         \"name\": str(str(model_name) + '_ConsSD'),\n",
    "                         \"R^2_A\": r2_score(y_test[\"Condensor Specific Duty\"], A_pred[: , 1]),\n",
    "                         \"MAE_A\": mean_absolute_error(y_test[\"Condensor Specific Duty\"], A_pred[: , 1]),\n",
    "                         \"MAPE_A\": mean_absolute_percentage_error(y_test[\"Condensor Specific Duty\"], A_pred[: , 1]),\n",
    "                         \"RMSE_A\": np.sqrt(mean_squared_error(y_test[\"Condensor Specific Duty\"], A_pred[: , 1])),\n",
    "                         \"R^2_N\": r2_score(y_test[\"Condensor Specific Duty\"], N_pred[: , 1]),\n",
    "                         \"MAE_N\": mean_absolute_error(y_test[\"Condensor Specific Duty\"], N_pred[: , 1]),\n",
    "                         \"MAPE_N\": mean_absolute_percentage_error(y_test[\"Condensor Specific Duty\"], N_pred[: , 1]),\n",
    "                         \"RMSE_N\": np.sqrt(mean_squared_error(y_test[\"Condensor Specific Duty\"], N_pred[: , 1]))\n",
    "                        }\n",
    "            , index=[0])\n",
    "        \n",
    "    global performance_ConSD\n",
    "    \n",
    "    performance_ConSD = pd.concat([performance_ConSD, row], ignore_index=True)    "
   ]
  },
  {
   "cell_type": "code",
   "execution_count": null,
   "id": "aa4bdaf8",
   "metadata": {},
   "outputs": [],
   "source": [
    "def evaldf_SLAD(A_pred, N_pred, model_name):\n",
    "    \n",
    "    row = pd.DataFrame(\n",
    "                        {\n",
    "                         \"name\": str(str(model_name) + '_SLAD'),\n",
    "                         \"R^2_A\": r2_score(y_test[\"SLAD (MJ/kg)\"], A_pred[: , 2]),\n",
    "                         \"MAE_A\": mean_absolute_error(y_test[\"SLAD (MJ/kg)\"], A_pred[: , 2]),\n",
    "                         \"MAPE_A\": mean_absolute_percentage_error(y_test[\"SLAD (MJ/kg)\"], A_pred[: , 2]),\n",
    "                         \"RMSE_A\": np.sqrt(mean_squared_error(y_test[\"SLAD (MJ/kg)\"], A_pred[: , 2])),\n",
    "                         \"R^2_N\": r2_score(y_test[\"SLAD (MJ/kg)\"], N_pred[: , 2]),\n",
    "                         \"MAE_N\": mean_absolute_error(y_test[\"SLAD (MJ/kg)\"], N_pred[: , 2]),\n",
    "                         \"MAPE_N\": mean_absolute_percentage_error(y_test[\"SLAD (MJ/kg)\"], N_pred[: , 2]),\n",
    "                         \"RMSE_N\": np.sqrt(mean_squared_error(y_test[\"SLAD (MJ/kg)\"], N_pred[: , 2]))\n",
    "                        }\n",
    "            , index=[0])\n",
    "    \n",
    "    global performance_SLAD\n",
    "     \n",
    "    performance_SLAD = pd.concat([performance_SLAD, row], ignore_index=True)    "
   ]
  },
  {
   "cell_type": "markdown",
   "id": "4fab1dbf",
   "metadata": {},
   "source": [
    "#### Define the ploting function"
   ]
  },
  {
   "cell_type": "code",
   "execution_count": null,
   "id": "b5d46fc0",
   "metadata": {},
   "outputs": [],
   "source": [
    "# Here the plot configuration for graphic evaluation of the ML models are defined\n",
    "\n",
    "\n",
    "def plot_result(A_pred, N_pred, name):\n",
    "    figs, axes = plt.subplots(nrows=3, ncols=2, figsize=(15,15), dpi=300)\n",
    "\n",
    "    axes[0,0].plot(np.arange(2,10), np.arange(2,10), color = \"red\")\n",
    "    axes[0,0].scatter(y_test[\"SRD (MJ/kg CO2)\"], A_pred[: , 0], alpha=0.1)\n",
    "    axes[0,0].set_xlabel('Actual Specific Reboiler Duty (MJ/kg CO2)',fontname=\"Times New Roman\", fontsize=10)\n",
    "    axes[0,0].set_ylabel('Predicted Specific Reboiler Duty (MJ/kg CO2)',fontname=\"Times New Roman\", fontsize=10)\n",
    "    axes[0,0].set_title('Plots for advanced feature set',fontname=\"Times New Roman\", fontsize=18)\n",
    "    \n",
    "    \n",
    "    axes[0,1].plot(np.arange(2,10), np.arange(2,10), color = \"red\")\n",
    "    axes[0,1].scatter(y_test[\"SRD (MJ/kg CO2)\"], N_pred[: , 0], alpha=0.1)\n",
    "    axes[0,1].set_xlabel('Actual Specific Reboiler Duty (MJ/kg CO2)',fontname=\"Times New Roman\", fontsize=10)\n",
    "    axes[0,1].set_ylabel('Predicted Specific Reboiler Duty (MJ/kg CO2)',fontname=\"Times New Roman\", fontsize=10)\n",
    "    axes[0,1].set_title('Plots for normal feature set',fontname=\"Times New Roman\", fontsize=18)\n",
    "    \n",
    "    \n",
    "    \n",
    "\n",
    "    axes[1,0].plot(np.arange(0,7), np.arange(0,7), color = \"red\")\n",
    "    axes[1,0].scatter(y_test['Condensor Specific Duty'], A_pred[: , 1], alpha=0.1)\n",
    "    axes[1,0].set_xlabel('Actual Specific Condenser Duty (MJ/kg CO2)',fontname=\"Times New Roman\", fontsize=10)\n",
    "    axes[1,0].set_ylabel('Predicted Specific Condenser Duty (MJ/kg CO2)',fontname=\"Times New Roman\", fontsize=10)\n",
    "\n",
    "    \n",
    "    axes[1,1].plot(np.arange(0,7), np.arange(0,7), color = \"red\")\n",
    "    axes[1,1].scatter(y_test['Condensor Specific Duty'], N_pred[: , 1], alpha=0.1)\n",
    "    axes[1,1].set_xlabel('Actual Specific Condenser Duty (MJ/kg CO2)',fontname=\"Times New Roman\", fontsize=10)\n",
    "    axes[1,1].set_ylabel('Predicted Specific Condenser Duty (MJ/kg CO2)',fontname=\"Times New Roman\", fontsize=10)\n",
    "\n",
    "    \n",
    "    axes[2,0].plot(np.arange(0,5), np.arange(0,5), color = \"red\")\n",
    "    axes[2,0].scatter(y_test['SLAD (MJ/kg)'], A_pred[: , 2], alpha=0.1)\n",
    "    axes[2,0].set_xlabel('Actual Specific Lean Amine Cooling Duty (MJ/kg CO2)',fontname=\"Times New Roman\", fontsize=10)\n",
    "    axes[2,0].set_ylabel('Predicted Specific Lean Amine Cooling Duty (MJ/kg CO2)',fontname=\"Times New Roman\", fontsize=10)\n",
    "    \n",
    "    \n",
    "    axes[2,1].plot(np.arange(0,5), np.arange(0,5), color = \"red\")\n",
    "    axes[2,1].scatter(y_test['SLAD (MJ/kg)'], N_pred[: , 2], alpha=0.1)\n",
    "    axes[2,1].set_xlabel('Actual Specific Lean Amine Cooling Duty (MJ/kg CO2)',fontname=\"Times New Roman\", fontsize=10)\n",
    "    axes[2,1].set_ylabel('Predicted Specific Lean Amine Cooling Duty (MJ/kg CO2)',fontname=\"Times New Roman\", fontsize=10)\n",
    "    \n",
    "    plt.savefig('Figures\\\\' + name + ' model performance.png', dpi=600, bbox_inches='tight')\n",
    "    "
   ]
  },
  {
   "cell_type": "code",
   "execution_count": null,
   "id": "1b1c6839",
   "metadata": {},
   "outputs": [],
   "source": [
    "# Defining a random state\n",
    "\n",
    "rs = 211"
   ]
  },
  {
   "cell_type": "markdown",
   "id": "f60c6095",
   "metadata": {},
   "source": [
    "## Decision Tree"
   ]
  },
  {
   "cell_type": "code",
   "execution_count": null,
   "id": "653e3cb7",
   "metadata": {},
   "outputs": [],
   "source": [
    "from sklearn.tree import DecisionTreeRegressor"
   ]
  },
  {
   "cell_type": "code",
   "execution_count": null,
   "id": "b13176b0",
   "metadata": {},
   "outputs": [],
   "source": [
    "DTmodelA = MultiOutputRegressor(DecisionTreeRegressor(max_depth=None,\n",
    "                                                      max_features=1.0,\n",
    "                                                      max_leaf_nodes=None,\n",
    "                                                      min_samples_leaf=1,\n",
    "                                                      min_samples_split=2,\n",
    "                                                      splitter='best',\n",
    "                                                      random_state=rs)\n",
    "                                ).fit(XA_train, y_train)\n",
    "\n",
    "DTmodelN = MultiOutputRegressor(DecisionTreeRegressor(max_depth=None,\n",
    "                                                      max_features=1.0,\n",
    "                                                      max_leaf_nodes=None,\n",
    "                                                      min_samples_leaf=1,\n",
    "                                                      min_samples_split=2,\n",
    "                                                      splitter='best',\n",
    "                                                      random_state=rs)\n",
    "                               ).fit(XN_train, y_train)"
   ]
  },
  {
   "cell_type": "code",
   "execution_count": null,
   "id": "0eb4b47f",
   "metadata": {},
   "outputs": [],
   "source": [
    "DTmodelA_pred = DTmodelA.predict(XA_test)\n",
    "DTmodelN_pred = DTmodelN.predict(XN_test)"
   ]
  },
  {
   "cell_type": "code",
   "execution_count": null,
   "id": "3497c244",
   "metadata": {},
   "outputs": [],
   "source": [
    "evaldf_SRD(DTmodelA_pred, DTmodelN_pred, 'DT')\n",
    "evaldf_ConSD(DTmodelA_pred, DTmodelN_pred, 'DT')\n",
    "evaldf_SLAD(DTmodelA_pred, DTmodelN_pred, 'DT')"
   ]
  },
  {
   "cell_type": "code",
   "execution_count": null,
   "id": "998db817",
   "metadata": {},
   "outputs": [],
   "source": [
    "plot_result(DTmodelA_pred, DTmodelN_pred, 'DT')"
   ]
  },
  {
   "cell_type": "markdown",
   "id": "e393b2c6",
   "metadata": {},
   "source": [
    "## Random Forest"
   ]
  },
  {
   "cell_type": "code",
   "execution_count": null,
   "id": "ea03b787",
   "metadata": {},
   "outputs": [],
   "source": [
    "from sklearn.ensemble import RandomForestRegressor"
   ]
  },
  {
   "cell_type": "code",
   "execution_count": null,
   "id": "08e6c657",
   "metadata": {},
   "outputs": [],
   "source": [
    "RFmodelA = MultiOutputRegressor(RandomForestRegressor(max_depth=20,\n",
    "                                                      max_features=6,\n",
    "                                                      n_estimators=600,\n",
    "                                                      n_jobs=-1,\n",
    "                                                      random_state=rs)\n",
    "                                ).fit(XA_train, y_train)\n",
    "\n",
    "RFmodelN = MultiOutputRegressor(RandomForestRegressor(max_depth=20,\n",
    "                                                      max_features=6,\n",
    "                                                      n_estimators=600,\n",
    "                                                      n_jobs=-1,\n",
    "                                                      random_state=rs)\n",
    "                               ).fit(XN_train, y_train)"
   ]
  },
  {
   "cell_type": "code",
   "execution_count": null,
   "id": "29b7d402",
   "metadata": {},
   "outputs": [],
   "source": [
    "RFmodelA_pred = RFmodelA.predict(XA_test)\n",
    "RFmodelN_pred = RFmodelN.predict(XN_test)"
   ]
  },
  {
   "cell_type": "code",
   "execution_count": null,
   "id": "014e5453",
   "metadata": {},
   "outputs": [],
   "source": [
    "evaldf_SRD(RFmodelA_pred, RFmodelN_pred, 'RF')\n",
    "evaldf_ConSD(RFmodelA_pred, RFmodelN_pred, 'RF')\n",
    "evaldf_SLAD(RFmodelA_pred, RFmodelN_pred, 'RF')"
   ]
  },
  {
   "cell_type": "code",
   "execution_count": null,
   "id": "5bc7b5d6",
   "metadata": {},
   "outputs": [],
   "source": [
    "plot_result(RFmodelA_pred, RFmodelN_pred, 'RF')"
   ]
  },
  {
   "cell_type": "markdown",
   "id": "05fb3258",
   "metadata": {},
   "source": [
    "## XGBoost"
   ]
  },
  {
   "cell_type": "code",
   "execution_count": null,
   "id": "45e8d8df",
   "metadata": {},
   "outputs": [],
   "source": [
    "from xgboost import XGBRegressor"
   ]
  },
  {
   "cell_type": "code",
   "execution_count": null,
   "id": "cbaa25c9",
   "metadata": {},
   "outputs": [],
   "source": [
    "import warnings\n",
    "warnings.filterwarnings('ignore')"
   ]
  },
  {
   "cell_type": "code",
   "execution_count": null,
   "id": "038dcd51",
   "metadata": {},
   "outputs": [],
   "source": [
    "XGmodelA = MultiOutputRegressor(XGBRegressor(max_depth=10,\n",
    "                                             learnin_rate=0.05,\n",
    "                                             subsample=0.8,\n",
    "                                             n_estimators=250,\n",
    "                                             n_jobs=-1,\n",
    "                                             verbosity=0,\n",
    "                                             random_state=rs)\n",
    "                               ).fit(XA_train, y_train)\n",
    "\n",
    "XGmodelN = MultiOutputRegressor(XGBRegressor(max_depth=10,\n",
    "                                             learnin_rate=0.05,\n",
    "                                             subsample=0.8,\n",
    "                                             n_estimators=250,\n",
    "                                             n_jobs=-1,\n",
    "                                             verbosity=0,\n",
    "                                             random_state=rs)\n",
    "                               ).fit(XN_train, y_train)"
   ]
  },
  {
   "cell_type": "code",
   "execution_count": null,
   "id": "7f75a411",
   "metadata": {},
   "outputs": [],
   "source": [
    "XGmodelA_pred = XGmodelA.predict(XA_test)\n",
    "XGmodelN_pred = XGmodelN.predict(XN_test)"
   ]
  },
  {
   "cell_type": "code",
   "execution_count": null,
   "id": "7646ab9c",
   "metadata": {},
   "outputs": [],
   "source": [
    "evaldf_SRD(XGmodelA_pred, XGmodelN_pred, 'XG')\n",
    "evaldf_ConSD(XGmodelA_pred, XGmodelN_pred, 'XG')\n",
    "evaldf_SLAD(XGmodelA_pred, XGmodelN_pred, 'XG')"
   ]
  },
  {
   "cell_type": "code",
   "execution_count": null,
   "id": "c872b7f0",
   "metadata": {
    "scrolled": true
   },
   "outputs": [],
   "source": [
    "plot_result(XGmodelA_pred, XGmodelN_pred, 'XG')"
   ]
  },
  {
   "cell_type": "markdown",
   "id": "5f8e2da4",
   "metadata": {},
   "source": [
    "## SVM"
   ]
  },
  {
   "cell_type": "code",
   "execution_count": null,
   "id": "fcb142d3",
   "metadata": {},
   "outputs": [],
   "source": [
    "from sklearn.svm import SVR"
   ]
  },
  {
   "cell_type": "code",
   "execution_count": null,
   "id": "8366ebbb",
   "metadata": {},
   "outputs": [],
   "source": [
    "SVmodelA = MultiOutputRegressor(Pipeline([('scaler', StandardScaler()),\n",
    "                                          ('svrA', SVR(C=100, degree=2, gamma= 'auto', kernel ='rbf'))])\n",
    "                               ).fit(XA_train, y_train)\n",
    "\n",
    "SVmodelN = MultiOutputRegressor(Pipeline([('scaler', StandardScaler()),\n",
    "                                          ('svrN', SVR(C=100, degree=2, gamma= 'auto', kernel ='rbf'))])\n",
    "                               ).fit(XN_train, y_train)"
   ]
  },
  {
   "cell_type": "code",
   "execution_count": null,
   "id": "b6df242f",
   "metadata": {},
   "outputs": [],
   "source": [
    "SVmodelA_pred = SVmodelA.predict(XA_test)\n",
    "SVmodelN_pred = SVmodelN.predict(XN_test)"
   ]
  },
  {
   "cell_type": "code",
   "execution_count": null,
   "id": "f66d1c21",
   "metadata": {},
   "outputs": [],
   "source": [
    "evaldf_SRD(SVmodelA_pred, SVmodelN_pred, 'SV')\n",
    "evaldf_ConSD(SVmodelA_pred, SVmodelN_pred, 'SV')\n",
    "evaldf_SLAD(SVmodelA_pred, SVmodelN_pred, 'SV')"
   ]
  },
  {
   "cell_type": "code",
   "execution_count": null,
   "id": "6e0bf37e",
   "metadata": {
    "scrolled": true
   },
   "outputs": [],
   "source": [
    "plot_result(SVmodelA_pred, SVmodelN_pred, 'SV')"
   ]
  },
  {
   "cell_type": "markdown",
   "id": "bdcd3069",
   "metadata": {},
   "source": [
    "## DL"
   ]
  },
  {
   "cell_type": "code",
   "execution_count": null,
   "id": "12d90a4c",
   "metadata": {},
   "outputs": [],
   "source": [
    "import tensorflow as tf"
   ]
  },
  {
   "cell_type": "code",
   "execution_count": null,
   "id": "693ec9ca",
   "metadata": {},
   "outputs": [],
   "source": [
    "scalerA = StandardScaler()\n",
    "scalerA.fit(XA_train)\n",
    "XA_train_s = pd.DataFrame(scalerA.transform(XA_train), columns=XA_train.columns)\n",
    "XA_test_s = pd.DataFrame(scalerA.transform(XA_test), columns=XA_test.columns)"
   ]
  },
  {
   "cell_type": "code",
   "execution_count": null,
   "id": "d323f020",
   "metadata": {},
   "outputs": [],
   "source": [
    "scalerN = StandardScaler()\n",
    "scalerN.fit(XN_train)\n",
    "XN_train_s = pd.DataFrame(scalerN.transform(XN_train), columns=XN_train.columns)\n",
    "XN_test_s = pd.DataFrame(scalerN.transform(XN_test), columns=XN_test.columns)"
   ]
  },
  {
   "cell_type": "code",
   "execution_count": null,
   "id": "7750e7ef",
   "metadata": {},
   "outputs": [],
   "source": [
    "np.random.seed(rs)\n",
    "tf.random.set_seed(rs)"
   ]
  },
  {
   "cell_type": "code",
   "execution_count": null,
   "id": "84910b3b",
   "metadata": {},
   "outputs": [],
   "source": [
    "DLmodelA = tf.keras.Sequential()\n",
    "\n",
    "DLmodelA.add(tf.keras.layers.Dense(22, input_dim=XA_train_s.shape[1], activation='tanh'))\n",
    "DLmodelA.add(tf.keras.layers.Dense(26, activation='tanh'))\n",
    "DLmodelA.add(tf.keras.layers.Dense(30, activation='tanh'))\n",
    "DLmodelA.add(tf.keras.layers.Dense(30, activation='tanh'))\n",
    "DLmodelA.add(tf.keras.layers.Dense(30, activation='tanh'))\n",
    "DLmodelA.add(tf.keras.layers.Dense(3))\n",
    "\n",
    "DLmodelA.compile(loss=\"mean_squared_error\", optimizer=\"adam\")\n",
    "\n",
    "DLmodelA.fit(XA_train_s, y_train, epochs= 150)"
   ]
  },
  {
   "cell_type": "code",
   "execution_count": null,
   "id": "8778c6c4",
   "metadata": {},
   "outputs": [],
   "source": [
    "DLmodelN = tf.keras.Sequential()\n",
    "\n",
    "DLmodelN.add(tf.keras.layers.Dense(22, input_dim=XN_train_s.shape[1], activation='tanh'))\n",
    "DLmodelN.add(tf.keras.layers.Dense(26, activation='tanh'))\n",
    "DLmodelN.add(tf.keras.layers.Dense(30, activation='tanh'))\n",
    "DLmodelN.add(tf.keras.layers.Dense(30, activation='tanh'))\n",
    "DLmodelN.add(tf.keras.layers.Dense(30, activation='tanh'))\n",
    "DLmodelN.add(tf.keras.layers.Dense(3))\n",
    "\n",
    "DLmodelN.compile(loss=\"mean_squared_error\", optimizer=\"adam\")\n",
    "\n",
    "DLmodelN.fit(XN_train_s, y_train, epochs= 150)"
   ]
  },
  {
   "cell_type": "code",
   "execution_count": null,
   "id": "02f55f97",
   "metadata": {},
   "outputs": [],
   "source": [
    "DLmodelA_pred = DLmodelA.predict(XA_test_s)\n",
    "DLmodelN_pred = DLmodelN.predict(XN_test_s)"
   ]
  },
  {
   "cell_type": "code",
   "execution_count": null,
   "id": "c1541d1b",
   "metadata": {},
   "outputs": [],
   "source": [
    "evaldf_SRD(DLmodelA_pred, DLmodelN_pred, 'DL')\n",
    "evaldf_ConSD(DLmodelA_pred, DLmodelN_pred, 'DL')\n",
    "evaldf_SLAD(DLmodelA_pred, DLmodelN_pred, 'DL')"
   ]
  },
  {
   "cell_type": "code",
   "execution_count": null,
   "id": "8ac7c2a2",
   "metadata": {},
   "outputs": [],
   "source": [
    "plot_result(DLmodelA_pred, DLmodelN_pred, 'DL')"
   ]
  },
  {
   "cell_type": "markdown",
   "id": "6d89f0c8",
   "metadata": {},
   "source": [
    "### Performance Table"
   ]
  },
  {
   "cell_type": "code",
   "execution_count": null,
   "id": "6745a868",
   "metadata": {},
   "outputs": [],
   "source": [
    "performance_SRD.to_excel('Tables\\\\Specific Reboiler Duty performance.xlsx', index=False )\n",
    "performance_SRD "
   ]
  },
  {
   "cell_type": "code",
   "execution_count": null,
   "id": "5bfe87df",
   "metadata": {},
   "outputs": [],
   "source": [
    "performance_ConSD.to_excel('Tables\\\\Specific Condenser Duty performance.xlsx', index=False )\n",
    "performance_ConSD"
   ]
  },
  {
   "cell_type": "code",
   "execution_count": null,
   "id": "c3f1ce22",
   "metadata": {},
   "outputs": [],
   "source": [
    "performance_SLAD.to_excel('Tables\\\\Specific LA Cooling Duty performance.xlsx', index=False )\n",
    "performance_SLAD "
   ]
  },
  {
   "cell_type": "markdown",
   "id": "80b7525e",
   "metadata": {},
   "source": [
    "### Out of Range evaluations (outer scope)"
   ]
  },
  {
   "cell_type": "code",
   "execution_count": null,
   "id": "8c230dda",
   "metadata": {},
   "outputs": [],
   "source": [
    "os = pd.read_excel('data/os_data.xlsx')"
   ]
  },
  {
   "cell_type": "code",
   "execution_count": null,
   "id": "c6739265",
   "metadata": {},
   "outputs": [],
   "source": [
    "os = os[os[\"LMTD\"] > 0]"
   ]
  },
  {
   "cell_type": "code",
   "execution_count": null,
   "id": "08412d55",
   "metadata": {},
   "outputs": [],
   "source": [
    "os = os[os[\"LA Chilling Duty\"] >= 0]"
   ]
  },
  {
   "cell_type": "code",
   "execution_count": null,
   "id": "e7cc256b",
   "metadata": {},
   "outputs": [],
   "source": [
    "os[\"SLAD (MJ/kg)\"] = (0.001 * os[\"LA Chilling Duty\"]) / os[\"Captured CO2 (kg/h)\"]"
   ]
  },
  {
   "cell_type": "code",
   "execution_count": null,
   "id": "7c0e9e86",
   "metadata": {},
   "outputs": [],
   "source": [
    "sns.displot(os[\"LMTD\"], bins=20, kde=True)"
   ]
  },
  {
   "cell_type": "code",
   "execution_count": null,
   "id": "0fce131a",
   "metadata": {},
   "outputs": [],
   "source": [
    "os_inp_A = os[[\"FG Temperature\", \"Lean Loading\",'Lean Amine Temperature','L/G (kg/kg)','Flue gas CO2 cons','CO2 Capture Efficiency','LMTD','Abs Height']]\n",
    "os_inp_N = os[[\"FG Temperature\", \"Lean Loading\",'Lean Amine Temperature','L/G (kg/kg)','Flue gas CO2 cons','CO2 Capture Efficiency']]"
   ]
  },
  {
   "cell_type": "code",
   "execution_count": null,
   "id": "84aedaa5",
   "metadata": {},
   "outputs": [],
   "source": [
    "os_out = os[[\"SRD (MJ/kg CO2)\", \"Condensor Specific Duty\", \"SLAD (MJ/kg)\"]]"
   ]
  },
  {
   "cell_type": "code",
   "execution_count": null,
   "id": "25e10d71",
   "metadata": {},
   "outputs": [],
   "source": [
    "DTmodelA_ospred = DTmodelA.predict(os_inp_A)\n",
    "RFmodelA_ospred = RFmodelA.predict(os_inp_A)\n",
    "XGmodelA_ospred = XGmodelA.predict(os_inp_A)\n",
    "SVmodelA_ospred = SVmodelA.predict(os_inp_A)\n",
    "DLmodelA_ospred = DLmodelA.predict(scalerA.transform(os_inp_A))"
   ]
  },
  {
   "cell_type": "code",
   "execution_count": null,
   "id": "a30c2884",
   "metadata": {},
   "outputs": [],
   "source": [
    "DTmodelN_ospred = DTmodelN.predict(os_inp_N)\n",
    "RFmodelN_ospred = RFmodelN.predict(os_inp_N)\n",
    "XGmodelN_ospred = XGmodelN.predict(os_inp_N)\n",
    "SVmodelN_ospred = SVmodelN.predict(os_inp_N)\n",
    "DLmodelN_ospred = DLmodelN.predict(scalerN.transform(os_inp_N))"
   ]
  },
  {
   "cell_type": "code",
   "execution_count": null,
   "id": "1179e7f7",
   "metadata": {},
   "outputs": [],
   "source": [
    "def os_plot(Y1, Y2, plot_name):\n",
    "    \n",
    "    AB = ['DT', 'RF', 'XG', 'SV', 'DL']\n",
    "    AB_ax = np.arange(len(AB))\n",
    "    plt.bar(AB_ax - 0.2, Y1, 0.4, label = 'Adv')\n",
    "    plt.bar(AB_ax + 0.2, Y2, 0.4, label = 'Nor')\n",
    "    \n",
    "    plt.xticks(AB_ax, AB)\n",
    "    plt.xlabel(\"ML Models\", fontname=\"Times New Roman\", fontsize=10)\n",
    "    plt.ylabel(\"% MAPE\", fontname=\"Times New Roman\", fontsize=10)\n",
    "    plt.legend()\n",
    "    \n",
    "    plt.savefig('Figures\\\\' + plot_name + ' OS MAPE.jpg', dpi=600, bbox_inches='tight')\n",
    "    \n",
    "    plt.show()"
   ]
  },
  {
   "cell_type": "code",
   "execution_count": null,
   "id": "9d15f582",
   "metadata": {},
   "outputs": [],
   "source": [
    "Y_0_A = [mean_absolute_percentage_error(os_out[\"SRD (MJ/kg CO2)\"], DTmodelA_ospred[: , 0]) * 100 ,\n",
    "         mean_absolute_percentage_error(os_out[\"SRD (MJ/kg CO2)\"], RFmodelA_ospred[: , 0]) * 100 ,\n",
    "         mean_absolute_percentage_error(os_out[\"SRD (MJ/kg CO2)\"], XGmodelA_ospred[: , 0]) * 100 ,\n",
    "         mean_absolute_percentage_error(os_out[\"SRD (MJ/kg CO2)\"], SVmodelA_ospred[: , 0]) * 100 ,\n",
    "         mean_absolute_percentage_error(os_out[\"SRD (MJ/kg CO2)\"], DLmodelA_ospred[: , 0]) * 100 ]"
   ]
  },
  {
   "cell_type": "code",
   "execution_count": null,
   "id": "45a2b7e9",
   "metadata": {},
   "outputs": [],
   "source": [
    "Y_0_N = [mean_absolute_percentage_error(os_out[\"SRD (MJ/kg CO2)\"], DTmodelN_ospred[: , 0]) * 100 ,\n",
    "         mean_absolute_percentage_error(os_out[\"SRD (MJ/kg CO2)\"], RFmodelN_ospred[: , 0]) * 100 ,\n",
    "         mean_absolute_percentage_error(os_out[\"SRD (MJ/kg CO2)\"], XGmodelN_ospred[: , 0]) * 100 ,\n",
    "         mean_absolute_percentage_error(os_out[\"SRD (MJ/kg CO2)\"], SVmodelN_ospred[: , 0]) * 100 ,\n",
    "         mean_absolute_percentage_error(os_out[\"SRD (MJ/kg CO2)\"], DLmodelN_ospred[: , 0]) * 100 ]"
   ]
  },
  {
   "cell_type": "code",
   "execution_count": null,
   "id": "19f8d853",
   "metadata": {},
   "outputs": [],
   "source": [
    "os_plot(Y_0_A, Y_0_N, 'Specific Reboiler Duty Predictions')"
   ]
  },
  {
   "cell_type": "code",
   "execution_count": null,
   "id": "e8c97f2b",
   "metadata": {},
   "outputs": [],
   "source": [
    "Y_1_A = [mean_absolute_percentage_error(os_out[\"Condensor Specific Duty\"], DTmodelA_ospred[: , 1]) * 100 ,\n",
    "         mean_absolute_percentage_error(os_out[\"Condensor Specific Duty\"], RFmodelA_ospred[: , 1]) * 100 ,\n",
    "         mean_absolute_percentage_error(os_out[\"Condensor Specific Duty\"], XGmodelA_ospred[: , 1]) * 100 ,\n",
    "         mean_absolute_percentage_error(os_out[\"Condensor Specific Duty\"], SVmodelA_ospred[: , 1]) * 100 ,\n",
    "         mean_absolute_percentage_error(os_out[\"Condensor Specific Duty\"], DLmodelA_ospred[: , 1]) * 100]"
   ]
  },
  {
   "cell_type": "code",
   "execution_count": null,
   "id": "b897cfd6",
   "metadata": {},
   "outputs": [],
   "source": [
    "Y_1_N = [mean_absolute_percentage_error(os_out[\"Condensor Specific Duty\"], DTmodelN_ospred[: , 1]) * 100 ,\n",
    "         mean_absolute_percentage_error(os_out[\"Condensor Specific Duty\"], RFmodelN_ospred[: , 1]) * 100 ,\n",
    "         mean_absolute_percentage_error(os_out[\"Condensor Specific Duty\"], XGmodelN_ospred[: , 1]) * 100 ,\n",
    "         mean_absolute_percentage_error(os_out[\"Condensor Specific Duty\"], SVmodelN_ospred[: , 1]) * 100 ,\n",
    "         mean_absolute_percentage_error(os_out[\"Condensor Specific Duty\"], DLmodelN_ospred[: , 1]) * 100]"
   ]
  },
  {
   "cell_type": "code",
   "execution_count": null,
   "id": "f6015d2b",
   "metadata": {},
   "outputs": [],
   "source": [
    "os_plot(Y_1_A, Y_1_N, 'Specific Condenser Duty Predictions')"
   ]
  },
  {
   "cell_type": "code",
   "execution_count": null,
   "id": "6ad9f7b2",
   "metadata": {},
   "outputs": [],
   "source": [
    "Y_2_A = [mean_absolute_percentage_error(os_out[\"SLAD (MJ/kg)\"], DTmodelA_ospred[: , 2]) * 100 ,\n",
    "         mean_absolute_percentage_error(os_out[\"SLAD (MJ/kg)\"], RFmodelA_ospred[: , 2]) * 100 ,\n",
    "         mean_absolute_percentage_error(os_out[\"SLAD (MJ/kg)\"], XGmodelA_ospred[: , 2]) * 100 ,\n",
    "         mean_absolute_percentage_error(os_out[\"SLAD (MJ/kg)\"], SVmodelA_ospred[: , 2]) * 100 ,\n",
    "         mean_absolute_percentage_error(os_out[\"SLAD (MJ/kg)\"], DLmodelA_ospred[: , 2]) * 100 ]"
   ]
  },
  {
   "cell_type": "code",
   "execution_count": null,
   "id": "2e24c49f",
   "metadata": {},
   "outputs": [],
   "source": [
    "Y_2_N = [mean_absolute_percentage_error(os_out[\"SLAD (MJ/kg)\"], DTmodelN_ospred[: , 2]) * 100 ,\n",
    "         mean_absolute_percentage_error(os_out[\"SLAD (MJ/kg)\"], RFmodelN_ospred[: , 2]) * 100 ,\n",
    "         mean_absolute_percentage_error(os_out[\"SLAD (MJ/kg)\"], XGmodelN_ospred[: , 2]) * 100 ,\n",
    "         mean_absolute_percentage_error(os_out[\"SLAD (MJ/kg)\"], SVmodelN_ospred[: , 2]) * 100 ,\n",
    "         mean_absolute_percentage_error(os_out[\"SLAD (MJ/kg)\"], DLmodelN_ospred[: , 2]) * 100 ]"
   ]
  },
  {
   "cell_type": "code",
   "execution_count": null,
   "id": "68257d41",
   "metadata": {},
   "outputs": [],
   "source": [
    "os_plot(Y_2_A, Y_2_N, 'Specific LA Cooling Duty Predictions')"
   ]
  },
  {
   "cell_type": "markdown",
   "id": "75c562db",
   "metadata": {},
   "source": [
    "### Deploy The best models with all data"
   ]
  },
  {
   "cell_type": "code",
   "execution_count": null,
   "id": "b8072911",
   "metadata": {},
   "outputs": [],
   "source": [
    "all_inputA = pd.concat( [XA , os_inp_A] )\n",
    "all_inputN = pd.concat( [XN , os_inp_N] )"
   ]
  },
  {
   "cell_type": "code",
   "execution_count": null,
   "id": "f10730e7",
   "metadata": {},
   "outputs": [],
   "source": [
    "all_output = pd.concat( [y , os_out] )"
   ]
  },
  {
   "cell_type": "code",
   "execution_count": null,
   "id": "c3768b0e",
   "metadata": {},
   "outputs": [],
   "source": [
    "all_scalerA = StandardScaler()\n",
    "all_scalerA.fit(all_inputA)\n",
    "All_XA = pd.DataFrame(all_scalerA.transform(all_inputA), columns=all_inputA.columns)"
   ]
  },
  {
   "cell_type": "code",
   "execution_count": null,
   "id": "53a8b407",
   "metadata": {},
   "outputs": [],
   "source": [
    "all_scalerN = StandardScaler()\n",
    "all_scalerN.fit(all_inputN)\n",
    "All_XN = pd.DataFrame(all_scalerN.transform(all_inputN), columns=all_inputN.columns)"
   ]
  },
  {
   "cell_type": "code",
   "execution_count": null,
   "id": "a2961329",
   "metadata": {},
   "outputs": [],
   "source": [
    "BmodelA = tf.keras.Sequential()\n",
    "\n",
    "BmodelA.add(tf.keras.layers.Dense(22, input_dim=All_XA.shape[1], activation='tanh'))\n",
    "BmodelA.add(tf.keras.layers.Dense(26, activation='tanh'))\n",
    "BmodelA.add(tf.keras.layers.Dense(30, activation='tanh'))\n",
    "BmodelA.add(tf.keras.layers.Dense(30, activation='tanh'))\n",
    "BmodelA.add(tf.keras.layers.Dense(30, activation='tanh'))\n",
    "BmodelA.add(tf.keras.layers.Dense(3))\n",
    "\n",
    "BmodelA.compile(loss=\"mean_squared_error\", optimizer=\"adam\")"
   ]
  },
  {
   "cell_type": "code",
   "execution_count": null,
   "id": "9c35d931",
   "metadata": {},
   "outputs": [],
   "source": [
    "BmodelA.fit(All_XA, all_output, epochs= 200)"
   ]
  },
  {
   "cell_type": "code",
   "execution_count": null,
   "id": "58cfac09",
   "metadata": {},
   "outputs": [],
   "source": [
    "BmodelN = tf.keras.Sequential()\n",
    "\n",
    "BmodelN.add(tf.keras.layers.Dense(22, input_dim=All_XN.shape[1], activation='tanh'))\n",
    "BmodelN.add(tf.keras.layers.Dense(26, activation='tanh'))\n",
    "BmodelN.add(tf.keras.layers.Dense(30, activation='tanh'))\n",
    "BmodelN.add(tf.keras.layers.Dense(30, activation='tanh'))\n",
    "BmodelN.add(tf.keras.layers.Dense(30, activation='tanh'))\n",
    "BmodelN.add(tf.keras.layers.Dense(3))\n",
    "\n",
    "BmodelN.compile(loss=\"mean_squared_error\", optimizer=\"adam\")"
   ]
  },
  {
   "cell_type": "code",
   "execution_count": null,
   "id": "2045332c",
   "metadata": {},
   "outputs": [],
   "source": [
    "BmodelN.fit(All_XN, all_output, epochs= 200)"
   ]
  },
  {
   "cell_type": "code",
   "execution_count": null,
   "id": "90e444c1",
   "metadata": {},
   "outputs": [],
   "source": [
    "BmodelA.save('Finalized_Models\\\\BmodelA')"
   ]
  },
  {
   "cell_type": "code",
   "execution_count": null,
   "id": "e805da73",
   "metadata": {},
   "outputs": [],
   "source": [
    "BmodelN.save('Finalized_Models\\\\BmodelN')"
   ]
  },
  {
   "cell_type": "markdown",
   "id": "f8b398e6",
   "metadata": {},
   "source": [
    "### Feature importance evaluation"
   ]
  },
  {
   "cell_type": "code",
   "execution_count": null,
   "id": "133a4f91",
   "metadata": {},
   "outputs": [],
   "source": [
    "import shap"
   ]
  },
  {
   "cell_type": "code",
   "execution_count": null,
   "id": "0800bf0f",
   "metadata": {},
   "outputs": [],
   "source": [
    "explainer = shap.Explainer(BmodelA.predict, All_XA)"
   ]
  },
  {
   "cell_type": "code",
   "execution_count": null,
   "id": "8bee62c9",
   "metadata": {},
   "outputs": [],
   "source": [
    "shap_values = explainer(All_XA)"
   ]
  },
  {
   "cell_type": "code",
   "execution_count": null,
   "id": "e1366d13",
   "metadata": {},
   "outputs": [],
   "source": [
    "shap.plots.beeswarm(shap_values[:,:,0], show=False)\n",
    "plt.savefig('Figures\\\\SHAP1 SRD.png', dpi=600, bbox_inches='tight')"
   ]
  },
  {
   "cell_type": "code",
   "execution_count": null,
   "id": "9c351de1",
   "metadata": {},
   "outputs": [],
   "source": [
    "shap.plots.bar(shap_values[:,:,0], show=False)\n",
    "plt.savefig('Figures\\\\SHAP2 SRD.png', dpi=600, bbox_inches='tight')"
   ]
  },
  {
   "cell_type": "code",
   "execution_count": null,
   "id": "ebb86694",
   "metadata": {},
   "outputs": [],
   "source": [
    "shap.plots.beeswarm(shap_values[:,:,1], show=False)\n",
    "plt.savefig('Figures\\\\SHAP1 SCondenserD.png', dpi=600, bbox_inches='tight')"
   ]
  },
  {
   "cell_type": "code",
   "execution_count": null,
   "id": "bc92a6a8",
   "metadata": {},
   "outputs": [],
   "source": [
    "shap.plots.bar(shap_values[:,:,1], show=False)\n",
    "plt.savefig('Figures\\\\SHAP2 SCondenserD.png', dpi=600, bbox_inches='tight')"
   ]
  },
  {
   "cell_type": "code",
   "execution_count": null,
   "id": "f9b69044",
   "metadata": {},
   "outputs": [],
   "source": [
    "shap.plots.beeswarm(shap_values[:,:,2], show=False)\n",
    "plt.savefig('Figures\\\\SHAP1 SLAcoolD.png', dpi=600, bbox_inches='tight')"
   ]
  },
  {
   "cell_type": "code",
   "execution_count": null,
   "id": "9acfbe0a",
   "metadata": {
    "scrolled": true
   },
   "outputs": [],
   "source": [
    "shap.plots.bar(shap_values[:,:,2], show=False)\n",
    "plt.savefig('Figures\\\\SHAP2 SLAcoolD.png', dpi=600, bbox_inches='tight')"
   ]
  }
 ],
 "metadata": {
  "kernelspec": {
   "display_name": "Python 3 (ipykernel)",
   "language": "python",
   "name": "python3"
  },
  "language_info": {
   "codemirror_mode": {
    "name": "ipython",
    "version": 3
   },
   "file_extension": ".py",
   "mimetype": "text/x-python",
   "name": "python",
   "nbconvert_exporter": "python",
   "pygments_lexer": "ipython3",
   "version": "3.9.12"
  }
 },
 "nbformat": 4,
 "nbformat_minor": 5
}
